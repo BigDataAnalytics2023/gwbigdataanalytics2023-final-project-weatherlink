{
  "nbformat": 4,
  "nbformat_minor": 0,
  "metadata": {
    "colab": {
      "provenance": []
    },
    "kernelspec": {
      "name": "python3",
      "display_name": "Python 3"
    },
    "language_info": {
      "name": "python"
    }
  },
  "cells": [
    {
      "cell_type": "code",
      "execution_count": null,
      "metadata": {
        "id": "jaS7efGBQFCY"
      },
      "outputs": [],
      "source": [
        "from flask import Flask, json, Response, request\n",
        "import pickle\n",
        "import requests\n",
        "from threading import Thread\n",
        "import pandas as pd\n",
        "import json"
      ]
    },
    {
      "cell_type": "code",
      "source": [
        "from google.colab import drive"
      ],
      "metadata": {
        "id": "rywInZC2RFgg"
      },
      "execution_count": null,
      "outputs": []
    },
    {
      "cell_type": "code",
      "source": [
        "from google.colab import auth\n",
        "auth.authenticate_service_account()"
      ],
      "metadata": {
        "colab": {
          "base_uri": "https://localhost:8080/",
          "height": 34
        },
        "id": "5_k9ixa8KAk8",
        "outputId": "657d6464-b1e6-4f3c-9e0d-f0a2b43a1ad6"
      },
      "execution_count": null,
      "outputs": [
        {
          "output_type": "stream",
          "name": "stdout",
          "text": [
            "Successfully saved credentials for pipelineauth@weatherlink-404323.iam.gserviceaccount.com\n"
          ]
        }
      ]
    },
    {
      "cell_type": "code",
      "source": [
        "from google.cloud import bigquery\n",
        "project_name='weatherlink-404323'\n",
        "client = bigquery.Client(project=project_name)\n",
        "dataset_name = 'weatherlink_master'"
      ],
      "metadata": {
        "id": "agj-hz48KJfY"
      },
      "execution_count": null,
      "outputs": []
    },
    {
      "cell_type": "code",
      "source": [
        "from sklearn.preprocessing import LabelEncoder"
      ],
      "metadata": {
        "id": "g_-KbjEuLaJy"
      },
      "execution_count": null,
      "outputs": []
    },
    {
      "cell_type": "code",
      "source": [
        "drive.mount('/content/drive')"
      ],
      "metadata": {
        "colab": {
          "base_uri": "https://localhost:8080/"
        },
        "id": "0DtRh7D6RGZ9",
        "outputId": "10ad4438-e104-4905-d416-a414ead912c6"
      },
      "execution_count": null,
      "outputs": [
        {
          "output_type": "stream",
          "name": "stdout",
          "text": [
            "Drive already mounted at /content/drive; to attempt to forcibly remount, call drive.mount(\"/content/drive\", force_remount=True).\n"
          ]
        }
      ]
    },
    {
      "cell_type": "code",
      "source": [
        "app = Flask(__name__)"
      ],
      "metadata": {
        "id": "4AtKyE9fQNgI"
      },
      "execution_count": null,
      "outputs": []
    },
    {
      "cell_type": "code",
      "source": [
        "model = pickle.load(open(\"/content/drive/MyDrive/decision_tree_0_74.sav\", 'rb'))"
      ],
      "metadata": {
        "id": "n4hfBgAAQVix"
      },
      "execution_count": null,
      "outputs": []
    },
    {
      "cell_type": "code",
      "source": [
        "le = LabelEncoder()"
      ],
      "metadata": {
        "id": "PUUNbOPZLW0X"
      },
      "execution_count": null,
      "outputs": []
    },
    {
      "cell_type": "code",
      "source": [
        "# Run a python(flask)-based web service in your note book\n",
        "# You can reload this cell to restart the server if you make changes\n",
        "\n",
        "default_port = 6060\n",
        "\n",
        "from werkzeug.serving import make_server\n",
        "from flask import Flask\n",
        "import threading\n",
        "\n",
        "class ServerThread(threading.Thread):\n",
        "\n",
        "    def __init__(self, app, port):\n",
        "        threading.Thread.__init__(self)\n",
        "        self.port = port\n",
        "        self.srv = make_server('127.0.0.1', port, app)\n",
        "        self.ctx = app.app_context()\n",
        "        self.ctx.push()\n",
        "\n",
        "    def run(self):\n",
        "        print('starting server on port:',self.port)\n",
        "        self.srv.serve_forever()\n",
        "\n",
        "    def shutdown(self):\n",
        "        self.srv.shutdown()\n",
        "\n",
        "def start_server(port=default_port):\n",
        "    global server\n",
        "    if 'server' in globals() and server:\n",
        "        print('stopping server')\n",
        "        stop_server()\n",
        "\n",
        "    app = Flask('myapp')\n",
        "\n",
        "\n",
        "    @app.route(\"/predict\", methods = ['POST'])\n",
        "    def predict_crashes():\n",
        "        input_data = request.json\n",
        "        df = pd.DataFrame.from_dict(json.loads(input_data))\n",
        "        df[\"day_of_week_name_le\"] = le.fit_transform(df[\"day_of_week_name\"])\n",
        "        df[\"atmospheric_cond_name_le\"] = le.fit_transform(df[\"atmospheric_cond_name\"])\n",
        "\n",
        "        df_temp = df[['week_of_crash', 'day_of_week_name_le', 'atmospheric_cond_name_le', 'no_car_ratio', 'male_pop_ratio', 'median_age', 'median_rent', 'income_per_capita' ]]\n",
        "\n",
        "        predictions = model.predict(df_temp)\n",
        "        df['predictions'] = predictions\n",
        "        return df[['geoid', 'predictions']].to_json()\n",
        "\n",
        "    server = ServerThread(app,port)\n",
        "    server.start()\n",
        "\n",
        "def stop_server():\n",
        "    global server\n",
        "    if server:\n",
        "        server.shutdown()\n",
        "        server = None\n",
        "\n",
        "# Start the server here\n",
        "start_server()"
      ],
      "metadata": {
        "colab": {
          "base_uri": "https://localhost:8080/"
        },
        "id": "54wlimlNwQ9k",
        "outputId": "5b0c3a8a-d52c-44cc-bdc6-c1115649e248"
      },
      "execution_count": null,
      "outputs": [
        {
          "output_type": "stream",
          "name": "stdout",
          "text": [
            "stopping server\n",
            "starting server on port: 6060\n"
          ]
        }
      ]
    },
    {
      "cell_type": "code",
      "source": [
        "p = requests.get('http://localhost:6060/predict')"
      ],
      "metadata": {
        "id": "2Sq0DL-9RS1s",
        "colab": {
          "base_uri": "https://localhost:8080/"
        },
        "outputId": "b2fc472f-9a48-443d-872c-f2121cc2d067"
      },
      "execution_count": null,
      "outputs": [
        {
          "output_type": "stream",
          "name": "stderr",
          "text": [
            "INFO:werkzeug:127.0.0.1 - - [13/Dec/2023 03:10:18] \"\u001b[31m\u001b[1mGET /predict HTTP/1.1\u001b[0m\" 405 -\n"
          ]
        }
      ]
    },
    {
      "cell_type": "code",
      "source": [
        "x = requests.post('http://localhost:6060/predict', json = df[0:10].to_json())"
      ],
      "metadata": {
        "colab": {
          "base_uri": "https://localhost:8080/"
        },
        "id": "lFBkBqj0v-ED",
        "outputId": "7bff8eeb-a30a-4740-973d-c105d70860b5"
      },
      "execution_count": null,
      "outputs": [
        {
          "output_type": "stream",
          "name": "stderr",
          "text": [
            "INFO:werkzeug:127.0.0.1 - - [13/Dec/2023 03:26:39] \"POST /predict HTTP/1.1\" 200 -\n"
          ]
        }
      ]
    },
    {
      "cell_type": "code",
      "source": [
        "x.text"
      ],
      "metadata": {
        "colab": {
          "base_uri": "https://localhost:8080/",
          "height": 52
        },
        "id": "phhwszEQxZLE",
        "outputId": "1ce48239-90be-4c37-d436-f5e9a3a89feb"
      },
      "execution_count": null,
      "outputs": [
        {
          "output_type": "execute_result",
          "data": {
            "text/plain": [
              "'{\"geoid\":{\"0\":12033,\"1\":12033,\"2\":12033,\"3\":12033,\"4\":12033,\"5\":12033,\"6\":12033,\"7\":12033,\"8\":12033,\"9\":12033},\"predictions\":{\"0\":1.0,\"1\":3.0,\"2\":1.0,\"3\":1.0,\"4\":3.0,\"5\":1.0,\"6\":1.0,\"7\":1.0,\"8\":2.0,\"9\":3.0}}'"
            ],
            "application/vnd.google.colaboratory.intrinsic+json": {
              "type": "string"
            }
          },
          "metadata": {},
          "execution_count": 41
        }
      ]
    },
    {
      "cell_type": "code",
      "source": [
        "pd.DataFrame.from_dict(json.loads(x.text))"
      ],
      "metadata": {
        "colab": {
          "base_uri": "https://localhost:8080/",
          "height": 359
        },
        "id": "SCrMe6h7zV8J",
        "outputId": "74e65987-4dd8-484e-96ef-7e698b51fa71"
      },
      "execution_count": null,
      "outputs": [
        {
          "output_type": "execute_result",
          "data": {
            "text/plain": [
              "   geoid  predictions\n",
              "0  12033          1.0\n",
              "1  12033          3.0\n",
              "2  12033          1.0\n",
              "3  12033          1.0\n",
              "4  12033          3.0\n",
              "5  12033          1.0\n",
              "6  12033          1.0\n",
              "7  12033          1.0\n",
              "8  12033          2.0\n",
              "9  12033          3.0"
            ],
            "text/html": [
              "\n",
              "  <div id=\"df-1b1ef7bd-f023-4c67-acd1-e91be0b11cc0\" class=\"colab-df-container\">\n",
              "    <div>\n",
              "<style scoped>\n",
              "    .dataframe tbody tr th:only-of-type {\n",
              "        vertical-align: middle;\n",
              "    }\n",
              "\n",
              "    .dataframe tbody tr th {\n",
              "        vertical-align: top;\n",
              "    }\n",
              "\n",
              "    .dataframe thead th {\n",
              "        text-align: right;\n",
              "    }\n",
              "</style>\n",
              "<table border=\"1\" class=\"dataframe\">\n",
              "  <thead>\n",
              "    <tr style=\"text-align: right;\">\n",
              "      <th></th>\n",
              "      <th>geoid</th>\n",
              "      <th>predictions</th>\n",
              "    </tr>\n",
              "  </thead>\n",
              "  <tbody>\n",
              "    <tr>\n",
              "      <th>0</th>\n",
              "      <td>12033</td>\n",
              "      <td>1.0</td>\n",
              "    </tr>\n",
              "    <tr>\n",
              "      <th>1</th>\n",
              "      <td>12033</td>\n",
              "      <td>3.0</td>\n",
              "    </tr>\n",
              "    <tr>\n",
              "      <th>2</th>\n",
              "      <td>12033</td>\n",
              "      <td>1.0</td>\n",
              "    </tr>\n",
              "    <tr>\n",
              "      <th>3</th>\n",
              "      <td>12033</td>\n",
              "      <td>1.0</td>\n",
              "    </tr>\n",
              "    <tr>\n",
              "      <th>4</th>\n",
              "      <td>12033</td>\n",
              "      <td>3.0</td>\n",
              "    </tr>\n",
              "    <tr>\n",
              "      <th>5</th>\n",
              "      <td>12033</td>\n",
              "      <td>1.0</td>\n",
              "    </tr>\n",
              "    <tr>\n",
              "      <th>6</th>\n",
              "      <td>12033</td>\n",
              "      <td>1.0</td>\n",
              "    </tr>\n",
              "    <tr>\n",
              "      <th>7</th>\n",
              "      <td>12033</td>\n",
              "      <td>1.0</td>\n",
              "    </tr>\n",
              "    <tr>\n",
              "      <th>8</th>\n",
              "      <td>12033</td>\n",
              "      <td>2.0</td>\n",
              "    </tr>\n",
              "    <tr>\n",
              "      <th>9</th>\n",
              "      <td>12033</td>\n",
              "      <td>3.0</td>\n",
              "    </tr>\n",
              "  </tbody>\n",
              "</table>\n",
              "</div>\n",
              "    <div class=\"colab-df-buttons\">\n",
              "\n",
              "  <div class=\"colab-df-container\">\n",
              "    <button class=\"colab-df-convert\" onclick=\"convertToInteractive('df-1b1ef7bd-f023-4c67-acd1-e91be0b11cc0')\"\n",
              "            title=\"Convert this dataframe to an interactive table.\"\n",
              "            style=\"display:none;\">\n",
              "\n",
              "  <svg xmlns=\"http://www.w3.org/2000/svg\" height=\"24px\" viewBox=\"0 -960 960 960\">\n",
              "    <path d=\"M120-120v-720h720v720H120Zm60-500h600v-160H180v160Zm220 220h160v-160H400v160Zm0 220h160v-160H400v160ZM180-400h160v-160H180v160Zm440 0h160v-160H620v160ZM180-180h160v-160H180v160Zm440 0h160v-160H620v160Z\"/>\n",
              "  </svg>\n",
              "    </button>\n",
              "\n",
              "  <style>\n",
              "    .colab-df-container {\n",
              "      display:flex;\n",
              "      gap: 12px;\n",
              "    }\n",
              "\n",
              "    .colab-df-convert {\n",
              "      background-color: #E8F0FE;\n",
              "      border: none;\n",
              "      border-radius: 50%;\n",
              "      cursor: pointer;\n",
              "      display: none;\n",
              "      fill: #1967D2;\n",
              "      height: 32px;\n",
              "      padding: 0 0 0 0;\n",
              "      width: 32px;\n",
              "    }\n",
              "\n",
              "    .colab-df-convert:hover {\n",
              "      background-color: #E2EBFA;\n",
              "      box-shadow: 0px 1px 2px rgba(60, 64, 67, 0.3), 0px 1px 3px 1px rgba(60, 64, 67, 0.15);\n",
              "      fill: #174EA6;\n",
              "    }\n",
              "\n",
              "    .colab-df-buttons div {\n",
              "      margin-bottom: 4px;\n",
              "    }\n",
              "\n",
              "    [theme=dark] .colab-df-convert {\n",
              "      background-color: #3B4455;\n",
              "      fill: #D2E3FC;\n",
              "    }\n",
              "\n",
              "    [theme=dark] .colab-df-convert:hover {\n",
              "      background-color: #434B5C;\n",
              "      box-shadow: 0px 1px 3px 1px rgba(0, 0, 0, 0.15);\n",
              "      filter: drop-shadow(0px 1px 2px rgba(0, 0, 0, 0.3));\n",
              "      fill: #FFFFFF;\n",
              "    }\n",
              "  </style>\n",
              "\n",
              "    <script>\n",
              "      const buttonEl =\n",
              "        document.querySelector('#df-1b1ef7bd-f023-4c67-acd1-e91be0b11cc0 button.colab-df-convert');\n",
              "      buttonEl.style.display =\n",
              "        google.colab.kernel.accessAllowed ? 'block' : 'none';\n",
              "\n",
              "      async function convertToInteractive(key) {\n",
              "        const element = document.querySelector('#df-1b1ef7bd-f023-4c67-acd1-e91be0b11cc0');\n",
              "        const dataTable =\n",
              "          await google.colab.kernel.invokeFunction('convertToInteractive',\n",
              "                                                    [key], {});\n",
              "        if (!dataTable) return;\n",
              "\n",
              "        const docLinkHtml = 'Like what you see? Visit the ' +\n",
              "          '<a target=\"_blank\" href=https://colab.research.google.com/notebooks/data_table.ipynb>data table notebook</a>'\n",
              "          + ' to learn more about interactive tables.';\n",
              "        element.innerHTML = '';\n",
              "        dataTable['output_type'] = 'display_data';\n",
              "        await google.colab.output.renderOutput(dataTable, element);\n",
              "        const docLink = document.createElement('div');\n",
              "        docLink.innerHTML = docLinkHtml;\n",
              "        element.appendChild(docLink);\n",
              "      }\n",
              "    </script>\n",
              "  </div>\n",
              "\n",
              "\n",
              "<div id=\"df-465f9f63-f8b4-460e-a84a-9815098da5f8\">\n",
              "  <button class=\"colab-df-quickchart\" onclick=\"quickchart('df-465f9f63-f8b4-460e-a84a-9815098da5f8')\"\n",
              "            title=\"Suggest charts\"\n",
              "            style=\"display:none;\">\n",
              "\n",
              "<svg xmlns=\"http://www.w3.org/2000/svg\" height=\"24px\"viewBox=\"0 0 24 24\"\n",
              "     width=\"24px\">\n",
              "    <g>\n",
              "        <path d=\"M19 3H5c-1.1 0-2 .9-2 2v14c0 1.1.9 2 2 2h14c1.1 0 2-.9 2-2V5c0-1.1-.9-2-2-2zM9 17H7v-7h2v7zm4 0h-2V7h2v10zm4 0h-2v-4h2v4z\"/>\n",
              "    </g>\n",
              "</svg>\n",
              "  </button>\n",
              "\n",
              "<style>\n",
              "  .colab-df-quickchart {\n",
              "      --bg-color: #E8F0FE;\n",
              "      --fill-color: #1967D2;\n",
              "      --hover-bg-color: #E2EBFA;\n",
              "      --hover-fill-color: #174EA6;\n",
              "      --disabled-fill-color: #AAA;\n",
              "      --disabled-bg-color: #DDD;\n",
              "  }\n",
              "\n",
              "  [theme=dark] .colab-df-quickchart {\n",
              "      --bg-color: #3B4455;\n",
              "      --fill-color: #D2E3FC;\n",
              "      --hover-bg-color: #434B5C;\n",
              "      --hover-fill-color: #FFFFFF;\n",
              "      --disabled-bg-color: #3B4455;\n",
              "      --disabled-fill-color: #666;\n",
              "  }\n",
              "\n",
              "  .colab-df-quickchart {\n",
              "    background-color: var(--bg-color);\n",
              "    border: none;\n",
              "    border-radius: 50%;\n",
              "    cursor: pointer;\n",
              "    display: none;\n",
              "    fill: var(--fill-color);\n",
              "    height: 32px;\n",
              "    padding: 0;\n",
              "    width: 32px;\n",
              "  }\n",
              "\n",
              "  .colab-df-quickchart:hover {\n",
              "    background-color: var(--hover-bg-color);\n",
              "    box-shadow: 0 1px 2px rgba(60, 64, 67, 0.3), 0 1px 3px 1px rgba(60, 64, 67, 0.15);\n",
              "    fill: var(--button-hover-fill-color);\n",
              "  }\n",
              "\n",
              "  .colab-df-quickchart-complete:disabled,\n",
              "  .colab-df-quickchart-complete:disabled:hover {\n",
              "    background-color: var(--disabled-bg-color);\n",
              "    fill: var(--disabled-fill-color);\n",
              "    box-shadow: none;\n",
              "  }\n",
              "\n",
              "  .colab-df-spinner {\n",
              "    border: 2px solid var(--fill-color);\n",
              "    border-color: transparent;\n",
              "    border-bottom-color: var(--fill-color);\n",
              "    animation:\n",
              "      spin 1s steps(1) infinite;\n",
              "  }\n",
              "\n",
              "  @keyframes spin {\n",
              "    0% {\n",
              "      border-color: transparent;\n",
              "      border-bottom-color: var(--fill-color);\n",
              "      border-left-color: var(--fill-color);\n",
              "    }\n",
              "    20% {\n",
              "      border-color: transparent;\n",
              "      border-left-color: var(--fill-color);\n",
              "      border-top-color: var(--fill-color);\n",
              "    }\n",
              "    30% {\n",
              "      border-color: transparent;\n",
              "      border-left-color: var(--fill-color);\n",
              "      border-top-color: var(--fill-color);\n",
              "      border-right-color: var(--fill-color);\n",
              "    }\n",
              "    40% {\n",
              "      border-color: transparent;\n",
              "      border-right-color: var(--fill-color);\n",
              "      border-top-color: var(--fill-color);\n",
              "    }\n",
              "    60% {\n",
              "      border-color: transparent;\n",
              "      border-right-color: var(--fill-color);\n",
              "    }\n",
              "    80% {\n",
              "      border-color: transparent;\n",
              "      border-right-color: var(--fill-color);\n",
              "      border-bottom-color: var(--fill-color);\n",
              "    }\n",
              "    90% {\n",
              "      border-color: transparent;\n",
              "      border-bottom-color: var(--fill-color);\n",
              "    }\n",
              "  }\n",
              "</style>\n",
              "\n",
              "  <script>\n",
              "    async function quickchart(key) {\n",
              "      const quickchartButtonEl =\n",
              "        document.querySelector('#' + key + ' button');\n",
              "      quickchartButtonEl.disabled = true;  // To prevent multiple clicks.\n",
              "      quickchartButtonEl.classList.add('colab-df-spinner');\n",
              "      try {\n",
              "        const charts = await google.colab.kernel.invokeFunction(\n",
              "            'suggestCharts', [key], {});\n",
              "      } catch (error) {\n",
              "        console.error('Error during call to suggestCharts:', error);\n",
              "      }\n",
              "      quickchartButtonEl.classList.remove('colab-df-spinner');\n",
              "      quickchartButtonEl.classList.add('colab-df-quickchart-complete');\n",
              "    }\n",
              "    (() => {\n",
              "      let quickchartButtonEl =\n",
              "        document.querySelector('#df-465f9f63-f8b4-460e-a84a-9815098da5f8 button');\n",
              "      quickchartButtonEl.style.display =\n",
              "        google.colab.kernel.accessAllowed ? 'block' : 'none';\n",
              "    })();\n",
              "  </script>\n",
              "</div>\n",
              "\n",
              "    </div>\n",
              "  </div>\n"
            ]
          },
          "metadata": {},
          "execution_count": 42
        }
      ]
    },
    {
      "cell_type": "code",
      "source": [
        "sql_query = \"\"\"\n",
        "\n",
        "select\n",
        "*\n",
        "FROM\n",
        "`weatherlink_master.census_accident_master_filtered`\n",
        "\n",
        "\"\"\"\n",
        "\n",
        "df = client.query(sql_query).to_dataframe()\n",
        "print(df)"
      ],
      "metadata": {
        "colab": {
          "base_uri": "https://localhost:8080/"
        },
        "id": "2kYbzIEPzpfG",
        "outputId": "ae842d0c-89b1-40c8-c852-06d412e98de1"
      },
      "execution_count": null,
      "outputs": [
        {
          "output_type": "stream",
          "name": "stdout",
          "text": [
            "        geoid timestamp_of_crash  year  month_of_crash  week_of_crash  \\\n",
            "0       12033         2016-11-19  2016              11             46   \n",
            "1       12033         2016-05-29  2016               5             22   \n",
            "2       12033         2016-05-06  2016               5             18   \n",
            "3       12033         2016-10-07  2016              10             40   \n",
            "4       12033         2016-03-20  2016               3             12   \n",
            "...       ...                ...   ...             ...            ...   \n",
            "115647  55039         2019-09-01  2019               9             35   \n",
            "115648  55039         2019-06-06  2019               6             22   \n",
            "115649  55039         2019-01-13  2019               1              2   \n",
            "115650  55039         2019-12-05  2019              12             48   \n",
            "115651  55039         2019-06-02  2019               6             22   \n",
            "\n",
            "       day_of_week_name  hour_of_crash atmospheric_cond_name  \\\n",
            "0              Saturday              0                 Clear   \n",
            "1                Sunday             23                 Clear   \n",
            "2                Friday              4                 Clear   \n",
            "3                Friday             23                 Clear   \n",
            "4                Sunday              1                Cloudy   \n",
            "...                 ...            ...                   ...   \n",
            "115647           Sunday              2                 Clear   \n",
            "115648         Thursday              8                 Clear   \n",
            "115649           Sunday             17                 Clear   \n",
            "115650         Thursday              1                 Clear   \n",
            "115651           Sunday             16                 Clear   \n",
            "\n",
            "                                 manner_of_collision_name  \\\n",
            "0         Not a Collision with Motor Vehicle In-Transport   \n",
            "1         Not a Collision with Motor Vehicle In-Transport   \n",
            "2                          Sideswipe - Opposite Direction   \n",
            "3         Not a Collision with Motor Vehicle In-Transport   \n",
            "4                                          Front-to-Front   \n",
            "...                                                   ...   \n",
            "115647  The First Harmful Event was Not a Collision wi...   \n",
            "115648                                     Front-to-Front   \n",
            "115649  The First Harmful Event was Not a Collision wi...   \n",
            "115650  The First Harmful Event was Not a Collision wi...   \n",
            "115651                                              Angle   \n",
            "\n",
            "        number_of_fatalities light_condition_name  no_car_ratio  total_pop  \\\n",
            "0                          1   Dark - Not Lighted             7     315187   \n",
            "1                          1   Dark - Not Lighted             7     315187   \n",
            "2                          1       Dark - Lighted             7     315187   \n",
            "3                          1       Dark - Lighted             7     315187   \n",
            "4                          1   Dark - Not Lighted             7     315187   \n",
            "...                      ...                  ...           ...        ...   \n",
            "115647                     1       Dark - Lighted            20     103403   \n",
            "115648                     1             Daylight            20     103403   \n",
            "115649                     1   Dark - Not Lighted            20     103403   \n",
            "115650                     2   Dark - Not Lighted            20     103403   \n",
            "115651                     1             Daylight            20     103403   \n",
            "\n",
            "        male_pop_ratio  median_rent  median_age  income_per_capita  count  \n",
            "0                   50          720          37              24607      1  \n",
            "1                   50          720          37              24607      2  \n",
            "2                   50          720          37              24607      1  \n",
            "3                   50          720          37              24607      1  \n",
            "4                   50          720          37              24607      2  \n",
            "...                ...          ...         ...                ...    ...  \n",
            "115647              48          647          42              33847      1  \n",
            "115648              48          647          42              33847      1  \n",
            "115649              48          647          42              33847      1  \n",
            "115650              48          647          42              33847      1  \n",
            "115651              48          647          42              33847      1  \n",
            "\n",
            "[115652 rows x 18 columns]\n"
          ]
        }
      ]
    },
    {
      "cell_type": "code",
      "source": [
        "df[0:10].to_json()"
      ],
      "metadata": {
        "colab": {
          "base_uri": "https://localhost:8080/",
          "height": 137
        },
        "id": "fzA-XOhjKQeL",
        "outputId": "6fcc4ef2-8508-4d92-8671-fe0dd793cd76"
      },
      "execution_count": null,
      "outputs": [
        {
          "output_type": "execute_result",
          "data": {
            "text/plain": [
              "'{\"geoid\":{\"0\":12033,\"1\":12033,\"2\":12033,\"3\":12033,\"4\":12033,\"5\":12033,\"6\":12033,\"7\":12033,\"8\":12033,\"9\":12033},\"timestamp_of_crash\":{\"0\":\"2016-11-19\",\"1\":\"2016-05-29\",\"2\":\"2016-05-06\",\"3\":\"2016-10-07\",\"4\":\"2016-03-20\",\"5\":\"2016-02-27\",\"6\":\"2016-05-19\",\"7\":\"2016-09-03\",\"8\":\"2016-02-17\",\"9\":\"2016-04-27\"},\"year\":{\"0\":2016,\"1\":2016,\"2\":2016,\"3\":2016,\"4\":2016,\"5\":2016,\"6\":2016,\"7\":2016,\"8\":2016,\"9\":2016},\"month_of_crash\":{\"0\":11,\"1\":5,\"2\":5,\"3\":10,\"4\":3,\"5\":2,\"6\":5,\"7\":9,\"8\":2,\"9\":4},\"week_of_crash\":{\"0\":46,\"1\":22,\"2\":18,\"3\":40,\"4\":12,\"5\":8,\"6\":20,\"7\":35,\"8\":7,\"9\":17},\"day_of_week_name\":{\"0\":\"Saturday\",\"1\":\"Sunday\",\"2\":\"Friday\",\"3\":\"Friday\",\"4\":\"Sunday\",\"5\":\"Saturday\",\"6\":\"Thursday\",\"7\":\"Saturday\",\"8\":\"Wednesday\",\"9\":\"Wednesday\"},\"hour_of_crash\":{\"0\":0,\"1\":23,\"2\":4,\"3\":23,\"4\":1,\"5\":15,\"6\":22,\"7\":22,\"8\":21,\"9\":19},\"atmospheric_cond_name\":{\"0\":\"Clear\",\"1\":\"Clear\",\"2\":\"Clear\",\"3\":\"Clear\",\"4\":\"Cloudy\",\"5\":\"Clear\",\"6\":\"Cloudy\",\"7\":\"Cloudy\",\"8\":\"Clear\",\"9\":\"Cloudy\"},\"manner_of_collision_name\":{\"0\":\"Not a Collision with Motor Vehicle In-Transport\",\"1\":\"Not a Collision with Motor Vehicle In-Transport\",\"2\":\"Sideswipe - Opposite Direction\",\"3\":\"Not a Collision with Motor Vehicle In-Transport\",\"4\":\"Front-to-Front\",\"5\":\"Not a Collision with Motor Vehicle In-Transport\",\"6\":\"Not a Collision with Motor Vehicle In-Transport\",\"7\":\"Not a Collision with Motor Vehicle In-Transport\",\"8\":\"Not a Collision with Motor Vehicle In-Transport\",\"9\":\"Not a Collision with Motor Vehicle In-Transport\"},\"number_of_fatalities\":{\"0\":1,\"1\":1,\"2\":1,\"3\":1,\"4\":1,\"5\":1,\"6\":1,\"7\":1,\"8\":1,\"9\":1},\"light_condition_name\":{\"0\":\"Dark - Not Lighted\",\"1\":\"Dark - Not Lighted\",\"2\":\"Dark - Lighted\",\"3\":\"Dark - Lighted\",\"4\":\"Dark - Not Lighted\",\"5\":\"Daylight\",\"6\":\"Dark - Not Lighted\",\"7\":\"Dark - Not Lighted\",\"8\":\"Dark - Not Lighted\",\"9\":\"Dark - Not Lighted\"},\"no_car_ratio\":{\"0\":7,\"1\":7,\"2\":7,\"3\":7,\"4\":7,\"5\":7,\"6\":7,\"7\":7,\"8\":7,\"9\":7},\"total_pop\":{\"0\":315187,\"1\":315187,\"2\":315187,\"3\":315187,\"4\":315187,\"5\":315187,\"6\":315187,\"7\":315187,\"8\":315187,\"9\":315187},\"male_pop_ratio\":{\"0\":50,\"1\":50,\"2\":50,\"3\":50,\"4\":50,\"5\":50,\"6\":50,\"7\":50,\"8\":50,\"9\":50},\"median_rent\":{\"0\":720,\"1\":720,\"2\":720,\"3\":720,\"4\":720,\"5\":720,\"6\":720,\"7\":720,\"8\":720,\"9\":720},\"median_age\":{\"0\":37,\"1\":37,\"2\":37,\"3\":37,\"4\":37,\"5\":37,\"6\":37,\"7\":37,\"8\":37,\"9\":37},\"income_per_capita\":{\"0\":24607,\"1\":24607,\"2\":24607,\"3\":24607,\"4\":24607,\"5\":24607,\"6\":24607,\"7\":24607,\"8\":24607,\"9\":24607},\"count\":{\"0\":1,\"1\":2,\"2\":1,\"3\":1,\"4\":2,\"5\":3,\"6\":3,\"7\":2,\"8\":2,\"9\":1}}'"
            ],
            "application/vnd.google.colaboratory.intrinsic+json": {
              "type": "string"
            }
          },
          "metadata": {},
          "execution_count": 30
        }
      ]
    },
    {
      "cell_type": "code",
      "source": [],
      "metadata": {
        "id": "HDpzL1FWLv7w"
      },
      "execution_count": null,
      "outputs": []
    }
  ]
}