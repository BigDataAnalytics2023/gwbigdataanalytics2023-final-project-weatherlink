{
  "nbformat": 4,
  "nbformat_minor": 0,
  "metadata": {
    "colab": {
      "provenance": [],
      "collapsed_sections": [
        "PXwr9tQJWJo4"
      ]
    },
    "kernelspec": {
      "name": "python3",
      "display_name": "Python 3"
    },
    "language_info": {
      "name": "python"
    }
  },
  "cells": [
    {
      "cell_type": "code",
      "execution_count": null,
      "metadata": {
        "colab": {
          "base_uri": "https://localhost:8080/",
          "height": 34
        },
        "id": "untykOyAMAAH",
        "outputId": "5eca046c-f7f4-4e8c-f8c4-133e4e319b1e"
      },
      "outputs": [
        {
          "output_type": "stream",
          "name": "stdout",
          "text": [
            "Successfully saved credentials for pipelineauth@weatherlink-404323.iam.gserviceaccount.com\n"
          ]
        }
      ],
      "source": [
        "from google.colab import auth\n",
        "auth.authenticate_service_account()"
      ]
    },
    {
      "cell_type": "code",
      "source": [
        "from google.cloud import bigquery\n",
        "project_name='weatherlink-404323'\n",
        "client = bigquery.Client(project=project_name)"
      ],
      "metadata": {
        "id": "42_-edtKMFut"
      },
      "execution_count": null,
      "outputs": []
    },
    {
      "cell_type": "code",
      "source": [
        "dataset_name = 'weatherlink_master'"
      ],
      "metadata": {
        "id": "vm1SD52WPglS"
      },
      "execution_count": null,
      "outputs": []
    },
    {
      "cell_type": "code",
      "source": [
        "tables = client.list_tables(dataset_name)\n",
        "for table in tables:\n",
        "  print(table.table_id)"
      ],
      "metadata": {
        "colab": {
          "base_uri": "https://localhost:8080/"
        },
        "id": "sS5gv0t-PcRs",
        "outputId": "60b02f7d-17fe-4ed9-8fcd-ceda12119c3c"
      },
      "execution_count": null,
      "outputs": [
        {
          "output_type": "stream",
          "name": "stdout",
          "text": [
            "accident_master\n",
            "accident_response_times\n",
            "census\n",
            "census_master\n",
            "census_test\n",
            "weather_master\n",
            "weatherlink_test\n"
          ]
        }
      ]
    },
    {
      "cell_type": "markdown",
      "source": [
        "### **CENCUS**"
      ],
      "metadata": {
        "id": "PXwr9tQJWJo4"
      }
    },
    {
      "cell_type": "code",
      "source": [
        "table_census = client.get_table(\"weatherlink-404323.weatherlink_master.census\")"
      ],
      "metadata": {
        "id": "Deb03LCQSKxu"
      },
      "execution_count": null,
      "outputs": []
    },
    {
      "cell_type": "code",
      "source": [
        "print(table_census.num_rows)"
      ],
      "metadata": {
        "colab": {
          "base_uri": "https://localhost:8080/"
        },
        "id": "-DOcyYImTLRr",
        "outputId": "64ce2d09-984f-466c-ef3d-4a40af39d9a2"
      },
      "execution_count": null,
      "outputs": [
        {
          "output_type": "stream",
          "name": "stdout",
          "text": [
            "11519\n"
          ]
        }
      ]
    },
    {
      "cell_type": "code",
      "source": [
        "table_census.schema"
      ],
      "metadata": {
        "colab": {
          "base_uri": "https://localhost:8080/"
        },
        "id": "zE2Cd-AdSQEA",
        "outputId": "74b7d5bd-b199-4762-8d65-cb65ef2e8f2a"
      },
      "execution_count": null,
      "outputs": [
        {
          "output_type": "execute_result",
          "data": {
            "text/plain": [
              "[SchemaField('geo_id', 'STRING', 'NULLABLE', None, None, (), None),\n",
              " SchemaField('income_per_capita', 'STRING', 'NULLABLE', None, None, (), None),\n",
              " SchemaField('median_income', 'STRING', 'NULLABLE', None, None, (), None),\n",
              " SchemaField('year', 'STRING', 'NULLABLE', None, None, (), None)]"
            ]
          },
          "metadata": {},
          "execution_count": 7
        }
      ]
    },
    {
      "cell_type": "code",
      "source": [
        "sql_query = \"\"\"\n",
        "SELECT distinct  geoid\n",
        "FROM (\n",
        "    SELECT\n",
        "        *,\n",
        "        CAST(year AS INT64) AS year_integer\n",
        "    FROM `weatherlink-404323.weatherlink_master.accident_master`\n",
        "    WHERE CAST(year AS INT64) BETWEEN 2015 AND 2019\n",
        ")\n",
        "\"\"\"\n",
        "\n"
      ],
      "metadata": {
        "id": "6dIIBZPRXZfd"
      },
      "execution_count": null,
      "outputs": []
    },
    {
      "cell_type": "code",
      "source": [
        "#DISTINCT YEARS\n",
        "df = client.query(sql_query).to_dataframe()\n",
        "print(df)"
      ],
      "metadata": {
        "colab": {
          "base_uri": "https://localhost:8080/"
        },
        "id": "vKiMXuoiXzqs",
        "outputId": "ef16a1d6-5582-4e8e-ac58-2c2f2de37edb"
      },
      "execution_count": null,
      "outputs": [
        {
          "output_type": "stream",
          "name": "stdout",
          "text": [
            "      geoid\n",
            "0      4015\n",
            "1     16077\n",
            "2     21145\n",
            "3     23011\n",
            "4     30003\n",
            "...     ...\n",
            "3108  38027\n",
            "3109  46055\n",
            "3110  30109\n",
            "3111  31009\n",
            "3112   4999\n",
            "\n",
            "[3113 rows x 1 columns]\n"
          ]
        }
      ]
    },
    {
      "cell_type": "code",
      "source": [
        "sql_query = \"\"\"\n",
        "SELECT distinct geo_id\n",
        "FROM `weatherlink-404323.weatherlink_master.census` order by geo_id asc\n",
        "\"\"\"\n",
        "#DISTINCT geo_id\n",
        "df = client.query(sql_query).to_dataframe()\n",
        "print(df)"
      ],
      "metadata": {
        "colab": {
          "base_uri": "https://localhost:8080/"
        },
        "id": "uPPYWDFEbFp6",
        "outputId": "30feef32-c3a0-46cf-a8e8-96eb60ec32c9"
      },
      "execution_count": null,
      "outputs": [
        {
          "output_type": "stream",
          "name": "stdout",
          "text": [
            "    geo_id\n",
            "0    01003\n",
            "1    01015\n",
            "2    01043\n",
            "3    01049\n",
            "4    01051\n",
            "..     ...\n",
            "953   9007\n",
            "954   9009\n",
            "955   9011\n",
            "956   9013\n",
            "957   9015\n",
            "\n",
            "[958 rows x 1 columns]\n"
          ]
        }
      ]
    },
    {
      "cell_type": "markdown",
      "source": [
        "### **CENSUS MASTER**"
      ],
      "metadata": {
        "id": "CsM-KV2dV-ES"
      }
    },
    {
      "cell_type": "code",
      "source": [
        "table_census_master = client.get_table(\"weatherlink-404323.weatherlink_master.census_master\")"
      ],
      "metadata": {
        "id": "o6JioxVdST79"
      },
      "execution_count": null,
      "outputs": []
    },
    {
      "cell_type": "code",
      "source": [
        "print(table_census_master.num_rows)"
      ],
      "metadata": {
        "colab": {
          "base_uri": "https://localhost:8080/"
        },
        "id": "vbz-3omPTbo-",
        "outputId": "791d5397-6f35-4c76-c3f6-1344510bf5bd"
      },
      "execution_count": null,
      "outputs": [
        {
          "output_type": "stream",
          "name": "stdout",
          "text": [
            "11508\n"
          ]
        }
      ]
    },
    {
      "cell_type": "code",
      "source": [
        "#columns_to_take = ['geo_id', 'year', 'no_car', 'total_pop', 'female_pop', 'employed_pop', 'unemployed_pop', 'median_rent', 'median_age']"
      ],
      "metadata": {
        "id": "vgIYziMp0wnr"
      },
      "execution_count": null,
      "outputs": []
    },
    {
      "cell_type": "code",
      "source": [
        "sql_query = \"\"\"\n",
        "SELECT geo_id, year, no_car, total_pop, male_pop, female_pop, median_rent, median_age, income_per_capita\n",
        "FROM `weatherlink-404323.weatherlink_master.census_master` where limit 10\n",
        "\"\"\"\n",
        "\n",
        "df = client.query(sql_query).to_dataframe()\n",
        "print(df)"
      ],
      "metadata": {
        "colab": {
          "base_uri": "https://localhost:8080/"
        },
        "id": "mdt24i9Q6l0X",
        "outputId": "b6b93b87-6728-465e-d84d-c72a406a1dfd"
      },
      "execution_count": null,
      "outputs": [
        {
          "output_type": "stream",
          "name": "stdout",
          "text": [
            "   geo_id  year   no_car  total_pop  male_pop  female_pop  median_rent  \\\n",
            "0   26081  2007   6003.0   604330.0  299419.0    304911.0        581.0   \n",
            "1   18089  2007   5750.0   492104.0  236709.0    255395.0        576.0   \n",
            "2   13121  2007  31819.0   992137.0  489573.0    502564.0        743.0   \n",
            "3   24510  2007  44853.0   637455.0  298148.0    339307.0        622.0   \n",
            "4   53053  2007   6811.0   773165.0  383809.0    389356.0        728.0   \n",
            "5   10003  2007   7591.0   528218.0  256092.0    272126.0        777.0   \n",
            "6   17197  2007   4007.0   673586.0  337779.0    335807.0        723.0   \n",
            "7   34029  2007   6826.0   565493.0  271087.0    294406.0       1005.0   \n",
            "8   24003  2007   4862.0   512154.0  254218.0    257936.0       1060.0   \n",
            "9   25009  2007  12599.0   733101.0  353951.0    379150.0        832.0   \n",
            "\n",
            "   median_age  income_per_capita  \n",
            "0        34.4            24635.0  \n",
            "1        37.3            22853.0  \n",
            "2        35.4            37651.0  \n",
            "3        35.4            21887.0  \n",
            "4        35.5            27268.0  \n",
            "5        37.1            29851.0  \n",
            "6        32.8            28382.0  \n",
            "7        41.1            29105.0  \n",
            "8        37.8            37025.0  \n",
            "9        39.6            32306.0  \n"
          ]
        }
      ]
    },
    {
      "cell_type": "code",
      "source": [
        "table_census_master.schema"
      ],
      "metadata": {
        "colab": {
          "base_uri": "https://localhost:8080/"
        },
        "id": "TGQ3KxH1SX9a",
        "outputId": "ce510751-b3c9-4b35-901e-c5cdd725efa9"
      },
      "execution_count": null,
      "outputs": [
        {
          "output_type": "execute_result",
          "data": {
            "text/plain": [
              "[SchemaField('income_per_capita', 'FLOAT', 'NULLABLE', None, None, (), None),\n",
              " SchemaField('two_cars', 'FLOAT', 'NULLABLE', None, None, (), None),\n",
              " SchemaField('pop_5_years_over', 'FLOAT', 'NULLABLE', None, None, (), None),\n",
              " SchemaField('occupation_services', 'FLOAT', 'NULLABLE', None, None, (), None),\n",
              " SchemaField('owner_occupied_housing_units', 'FLOAT', 'NULLABLE', None, None, (), None),\n",
              " SchemaField('female_75_to_79', 'FLOAT', 'NULLABLE', None, None, (), None),\n",
              " SchemaField('no_car', 'FLOAT', 'NULLABLE', None, None, (), None),\n",
              " SchemaField('pop_divorced', 'FLOAT', 'NULLABLE', None, None, (), None),\n",
              " SchemaField('commute_90_more_mins', 'FLOAT', 'NULLABLE', None, None, (), None),\n",
              " SchemaField('employed_agriculture_forestry_fishing_hunting_mining', 'FLOAT', 'NULLABLE', None, None, (), None),\n",
              " SchemaField('no_cars', 'FLOAT', 'NULLABLE', None, None, (), None),\n",
              " SchemaField('less_than_high_school_graduate', 'FLOAT', 'NULLABLE', None, None, (), None),\n",
              " SchemaField('income_60000_74999', 'FLOAT', 'NULLABLE', None, None, (), None),\n",
              " SchemaField('asian_male_55_64', 'FLOAT', 'NULLABLE', None, None, (), None),\n",
              " SchemaField('male_67_to_69', 'FLOAT', 'NULLABLE', None, None, (), None),\n",
              " SchemaField('pop_16_over', 'FLOAT', 'NULLABLE', None, None, (), None),\n",
              " SchemaField('income_35000_39999', 'FLOAT', 'NULLABLE', None, None, (), None),\n",
              " SchemaField('female_50_to_54', 'FLOAT', 'NULLABLE', None, None, (), None),\n",
              " SchemaField('male_75_to_79', 'FLOAT', 'NULLABLE', None, None, (), None),\n",
              " SchemaField('employed_manufacturing', 'FLOAT', 'NULLABLE', None, None, (), None),\n",
              " SchemaField('one_year_more_college', 'FLOAT', 'NULLABLE', None, None, (), None),\n",
              " SchemaField('commute_60_more_mins', 'FLOAT', 'NULLABLE', None, None, (), None),\n",
              " SchemaField('family_households', 'FLOAT', 'NULLABLE', None, None, (), None),\n",
              " SchemaField('rent_20_to_25_percent', 'FLOAT', 'NULLABLE', None, None, (), None),\n",
              " SchemaField('female_pop', 'FLOAT', 'NULLABLE', None, None, (), None),\n",
              " SchemaField('hispanic_any_race', 'FLOAT', 'NULLABLE', None, None, (), None),\n",
              " SchemaField('speak_spanish_at_home_low_english', 'FLOAT', 'NULLABLE', None, None, (), None),\n",
              " SchemaField('pop_never_married', 'FLOAT', 'NULLABLE', None, None, (), None),\n",
              " SchemaField('associates_degree', 'FLOAT', 'NULLABLE', None, None, (), None),\n",
              " SchemaField('commute_25_29_mins', 'FLOAT', 'NULLABLE', None, None, (), None),\n",
              " SchemaField('gini_index', 'FLOAT', 'NULLABLE', None, None, (), None),\n",
              " SchemaField('female_21', 'FLOAT', 'NULLABLE', None, None, (), None),\n",
              " SchemaField('asian_pop', 'FLOAT', 'NULLABLE', None, None, (), None),\n",
              " SchemaField('amerindian_pop', 'FLOAT', 'NULLABLE', None, None, (), None),\n",
              " SchemaField('occupation_management_arts', 'FLOAT', 'NULLABLE', None, None, (), None),\n",
              " SchemaField('dwellings_10_to_19_units', 'FLOAT', 'NULLABLE', None, None, (), None),\n",
              " SchemaField('owner_occupied_housing_units_lower_value_quartile', 'FLOAT', 'NULLABLE', None, None, (), None),\n",
              " SchemaField('male_80_to_84', 'FLOAT', 'NULLABLE', None, None, (), None),\n",
              " SchemaField('civilian_labor_force', 'FLOAT', 'NULLABLE', None, None, (), None),\n",
              " SchemaField('occupation_sales_office', 'FLOAT', 'NULLABLE', None, None, (), None),\n",
              " SchemaField('male_10_to_14', 'FLOAT', 'NULLABLE', None, None, (), None),\n",
              " SchemaField('two_parents_in_labor_force_families_with_young_children', 'FLOAT', 'NULLABLE', None, None, (), None),\n",
              " SchemaField('housing_units', 'FLOAT', 'NULLABLE', None, None, (), None),\n",
              " SchemaField('median_year_structure_built', 'FLOAT', 'NULLABLE', None, None, (), None),\n",
              " SchemaField('rent_40_to_50_percent', 'FLOAT', 'NULLABLE', None, None, (), None),\n",
              " SchemaField('income_200000_or_more', 'FLOAT', 'NULLABLE', None, None, (), None),\n",
              " SchemaField('female_40_to_44', 'FLOAT', 'NULLABLE', None, None, (), None),\n",
              " SchemaField('black_male_55_64', 'FLOAT', 'NULLABLE', None, None, (), None),\n",
              " SchemaField('total_pop', 'FLOAT', 'NULLABLE', None, None, (), None),\n",
              " SchemaField('male_35_to_39', 'FLOAT', 'NULLABLE', None, None, (), None),\n",
              " SchemaField('bachelors_degree_or_higher_25_64', 'FLOAT', 'NULLABLE', None, None, (), None),\n",
              " SchemaField('income_20000_24999', 'FLOAT', 'NULLABLE', None, None, (), None),\n",
              " SchemaField('female_female_households', 'FLOAT', 'NULLABLE', None, None, (), None),\n",
              " SchemaField('income_125000_149999', 'FLOAT', 'NULLABLE', None, None, (), None),\n",
              " SchemaField('in_school', 'FLOAT', 'NULLABLE', None, None, (), None),\n",
              " SchemaField('median_rent', 'FLOAT', 'NULLABLE', None, None, (), None),\n",
              " SchemaField('vacant_housing_units', 'FLOAT', 'NULLABLE', None, None, (), None),\n",
              " SchemaField('male_18_to_19', 'FLOAT', 'NULLABLE', None, None, (), None),\n",
              " SchemaField('male_21', 'FLOAT', 'NULLABLE', None, None, (), None),\n",
              " SchemaField('income_15000_19999', 'FLOAT', 'NULLABLE', None, None, (), None),\n",
              " SchemaField('speak_spanish_at_home', 'FLOAT', 'NULLABLE', None, None, (), None),\n",
              " SchemaField('rent_35_to_40_percent', 'FLOAT', 'NULLABLE', None, None, (), None),\n",
              " SchemaField('population_3_years_over', 'FLOAT', 'NULLABLE', None, None, (), None),\n",
              " SchemaField('housing_built_2000_to_2004', 'FLOAT', 'NULLABLE', None, None, (), None),\n",
              " SchemaField('female_5_to_9', 'FLOAT', 'NULLABLE', None, None, (), None),\n",
              " SchemaField('different_house_year_ago_same_city', 'FLOAT', 'NULLABLE', None, None, (), None),\n",
              " SchemaField('male_50_to_54', 'FLOAT', 'NULLABLE', None, None, (), None),\n",
              " SchemaField('male_male_households', 'FLOAT', 'NULLABLE', None, None, (), None),\n",
              " SchemaField('in_grades_5_to_8', 'FLOAT', 'NULLABLE', None, None, (), None),\n",
              " SchemaField('black_pop', 'FLOAT', 'NULLABLE', None, None, (), None),\n",
              " SchemaField('commute_10_14_mins', 'FLOAT', 'NULLABLE', None, None, (), None),\n",
              " SchemaField('two_parents_not_in_labor_force_families_with_young_children', 'FLOAT', 'NULLABLE', None, None, (), None),\n",
              " SchemaField('million_dollar_housing_units', 'FLOAT', 'NULLABLE', None, None, (), None),\n",
              " SchemaField('commuters_by_car_truck_van', 'FLOAT', 'NULLABLE', None, None, (), None),\n",
              " SchemaField('pop_separated', 'FLOAT', 'NULLABLE', None, None, (), None),\n",
              " SchemaField('dwellings_1_units_detached', 'FLOAT', 'NULLABLE', None, None, (), None),\n",
              " SchemaField('commute_45_59_mins', 'FLOAT', 'NULLABLE', None, None, (), None),\n",
              " SchemaField('employed_information', 'FLOAT', 'NULLABLE', None, None, (), None),\n",
              " SchemaField('female_55_to_59', 'FLOAT', 'NULLABLE', None, None, (), None),\n",
              " SchemaField('aggregate_travel_time_to_work', 'FLOAT', 'NULLABLE', None, None, (), None),\n",
              " SchemaField('commuters_by_bus', 'FLOAT', 'NULLABLE', None, None, (), None),\n",
              " SchemaField('pop_in_labor_force', 'FLOAT', 'NULLABLE', None, None, (), None),\n",
              " SchemaField('two_parent_families_with_young_children', 'FLOAT', 'NULLABLE', None, None, (), None),\n",
              " SchemaField('employed_retail_trade', 'FLOAT', 'NULLABLE', None, None, (), None),\n",
              " SchemaField('renter_occupied_housing_units_paying_cash_median_gross_rent', 'FLOAT', 'NULLABLE', None, None, (), None),\n",
              " SchemaField('female_30_to_34', 'FLOAT', 'NULLABLE', None, None, (), None),\n",
              " SchemaField('in_grades_1_to_4', 'FLOAT', 'NULLABLE', None, None, (), None),\n",
              " SchemaField('two_parents_mother_in_labor_force_families_with_young_children', 'FLOAT', 'NULLABLE', None, None, (), None),\n",
              " SchemaField('management_business_sci_arts_employed', 'FLOAT', 'NULLABLE', None, None, (), None),\n",
              " SchemaField('pop_25_64', 'FLOAT', 'NULLABLE', None, None, (), None),\n",
              " SchemaField('commuters_by_carpool', 'FLOAT', 'NULLABLE', None, None, (), None),\n",
              " SchemaField('commute_35_44_mins', 'FLOAT', 'NULLABLE', None, None, (), None),\n",
              " SchemaField('female_22_to_24', 'FLOAT', 'NULLABLE', None, None, (), None),\n",
              " SchemaField('dwellings_20_to_49_units', 'FLOAT', 'NULLABLE', None, None, (), None),\n",
              " SchemaField('male_60_61', 'FLOAT', 'NULLABLE', None, None, (), None),\n",
              " SchemaField('male_45_64_some_college', 'FLOAT', 'NULLABLE', None, None, (), None),\n",
              " SchemaField('bachelors_degree_2', 'FLOAT', 'NULLABLE', None, None, (), None),\n",
              " SchemaField('income_100000_124999', 'FLOAT', 'NULLABLE', None, None, (), None),\n",
              " SchemaField('employed_wholesale_trade', 'FLOAT', 'NULLABLE', None, None, (), None),\n",
              " SchemaField('housing_units_renter_occupied', 'FLOAT', 'NULLABLE', None, None, (), None),\n",
              " SchemaField('married_households', 'FLOAT', 'NULLABLE', None, None, (), None),\n",
              " SchemaField('male_45_64_grade_9_12', 'FLOAT', 'NULLABLE', None, None, (), None),\n",
              " SchemaField('population_1_year_and_over', 'FLOAT', 'NULLABLE', None, None, (), None),\n",
              " SchemaField('dwellings_50_or_more_units', 'FLOAT', 'NULLABLE', None, None, (), None),\n",
              " SchemaField('group_quarters', 'FLOAT', 'NULLABLE', None, None, (), None),\n",
              " SchemaField('two_parents_father_in_labor_force_families_with_young_children', 'FLOAT', 'NULLABLE', None, None, (), None),\n",
              " SchemaField('male_45_64_bachelors_degree', 'FLOAT', 'NULLABLE', None, None, (), None),\n",
              " SchemaField('rent_under_10_percent', 'FLOAT', 'NULLABLE', None, None, (), None),\n",
              " SchemaField('amerindian_including_hispanic', 'FLOAT', 'NULLABLE', None, None, (), None),\n",
              " SchemaField('white_male_45_54', 'FLOAT', 'NULLABLE', None, None, (), None),\n",
              " SchemaField('rent_30_to_35_percent', 'FLOAT', 'NULLABLE', None, None, (), None),\n",
              " SchemaField('white_male_55_64', 'FLOAT', 'NULLABLE', None, None, (), None),\n",
              " SchemaField('female_67_to_69', 'FLOAT', 'NULLABLE', None, None, (), None),\n",
              " SchemaField('in_grades_9_to_12', 'FLOAT', 'NULLABLE', None, None, (), None),\n",
              " SchemaField('median_age', 'FLOAT', 'NULLABLE', None, None, (), None),\n",
              " SchemaField('one_parent_families_with_young_children', 'FLOAT', 'NULLABLE', None, None, (), None),\n",
              " SchemaField('hispanic_male_55_64', 'FLOAT', 'NULLABLE', None, None, (), None),\n",
              " SchemaField('employed_education_health_social', 'FLOAT', 'NULLABLE', None, None, (), None),\n",
              " SchemaField('households_public_asst_or_food_stamps', 'FLOAT', 'NULLABLE', None, None, (), None),\n",
              " SchemaField('hispanic_pop', 'FLOAT', 'NULLABLE', None, None, (), None),\n",
              " SchemaField('two_or_more_races_pop', 'FLOAT', 'NULLABLE', None, None, (), None),\n",
              " SchemaField('nonfamily_households', 'FLOAT', 'NULLABLE', None, None, (), None),\n",
              " SchemaField('commute_40_44_mins', 'FLOAT', 'NULLABLE', None, None, (), None),\n",
              " SchemaField('not_us_citizen_pop', 'FLOAT', 'NULLABLE', None, None, (), None),\n",
              " SchemaField('male_45_64_graduate_degree', 'FLOAT', 'NULLABLE', None, None, (), None),\n",
              " SchemaField('employed_finance_insurance_real_estate', 'FLOAT', 'NULLABLE', None, None, (), None),\n",
              " SchemaField('workers_16_and_over', 'FLOAT', 'NULLABLE', None, None, (), None),\n",
              " SchemaField('male_85_and_over', 'FLOAT', 'NULLABLE', None, None, (), None),\n",
              " SchemaField('dwellings_2_units', 'FLOAT', 'NULLABLE', None, None, (), None),\n",
              " SchemaField('commute_less_10_mins', 'FLOAT', 'NULLABLE', None, None, (), None),\n",
              " SchemaField('occupied_housing_units', 'FLOAT', 'NULLABLE', None, None, (), None),\n",
              " SchemaField('income_50000_59999', 'FLOAT', 'NULLABLE', None, None, (), None),\n",
              " SchemaField('owner_occupied_housing_units_upper_value_quartile', 'FLOAT', 'NULLABLE', None, None, (), None),\n",
              " SchemaField('male_5_to_9', 'FLOAT', 'NULLABLE', None, None, (), None),\n",
              " SchemaField('median_income', 'FLOAT', 'NULLABLE', None, None, (), None),\n",
              " SchemaField('female_25_to_29', 'FLOAT', 'NULLABLE', None, None, (), None),\n",
              " SchemaField('dwellings_1_units_attached', 'FLOAT', 'NULLABLE', None, None, (), None),\n",
              " SchemaField('mortgaged_housing_units', 'FLOAT', 'NULLABLE', None, None, (), None),\n",
              " SchemaField('housing_built_2005_or_later', 'FLOAT', 'NULLABLE', None, None, (), None),\n",
              " SchemaField('armed_forces', 'FLOAT', 'NULLABLE', None, None, (), None),\n",
              " SchemaField('in_undergrad_college', 'FLOAT', 'NULLABLE', None, None, (), None),\n",
              " SchemaField('some_college_and_associates_degree', 'FLOAT', 'NULLABLE', None, None, (), None),\n",
              " SchemaField('female_20', 'FLOAT', 'NULLABLE', None, None, (), None),\n",
              " SchemaField('male_30_to_34', 'FLOAT', 'NULLABLE', None, None, (), None),\n",
              " SchemaField('pop_25_years_over', 'FLOAT', 'NULLABLE', None, None, (), None),\n",
              " SchemaField('female_60_to_61', 'FLOAT', 'NULLABLE', None, None, (), None),\n",
              " SchemaField('geo_id', 'INTEGER', 'NULLABLE', None, None, (), None),\n",
              " SchemaField('dwellings_3_to_4_units', 'FLOAT', 'NULLABLE', None, None, (), None),\n",
              " SchemaField('employed_transportation_warehousing_utilities', 'FLOAT', 'NULLABLE', None, None, (), None),\n",
              " SchemaField('asian_male_45_54', 'FLOAT', 'NULLABLE', None, None, (), None),\n",
              " SchemaField('male_45_64_less_than_9_grade', 'FLOAT', 'NULLABLE', None, None, (), None),\n",
              " SchemaField('female_45_to_49', 'FLOAT', 'NULLABLE', None, None, (), None),\n",
              " SchemaField('commute_15_19_mins', 'FLOAT', 'NULLABLE', None, None, (), None),\n",
              " SchemaField('less_one_year_college', 'FLOAT', 'NULLABLE', None, None, (), None),\n",
              " SchemaField('rent_15_to_20_percent', 'FLOAT', 'NULLABLE', None, None, (), None),\n",
              " SchemaField('male_pop', 'FLOAT', 'NULLABLE', None, None, (), None),\n",
              " SchemaField('income_less_10000', 'FLOAT', 'NULLABLE', None, None, (), None),\n",
              " SchemaField('rent_over_50_percent', 'FLOAT', 'NULLABLE', None, None, (), None),\n",
              " SchemaField('income_25000_29999', 'FLOAT', 'NULLABLE', None, None, (), None),\n",
              " SchemaField('dwellings_5_to_9_units', 'FLOAT', 'NULLABLE', None, None, (), None),\n",
              " SchemaField('male_40_to_44', 'FLOAT', 'NULLABLE', None, None, (), None),\n",
              " SchemaField('male_70_to_74', 'FLOAT', 'NULLABLE', None, None, (), None),\n",
              " SchemaField('female_62_to_64', 'FLOAT', 'NULLABLE', None, None, (), None),\n",
              " SchemaField('commuters_by_subway_or_elevated', 'FLOAT', 'NULLABLE', None, None, (), None),\n",
              " SchemaField('graduate_professional_degree', 'FLOAT', 'NULLABLE', None, None, (), None),\n",
              " SchemaField('bachelors_degree', 'FLOAT', 'NULLABLE', None, None, (), None),\n",
              " SchemaField('pop_15_and_over', 'FLOAT', 'NULLABLE', None, None, (), None),\n",
              " SchemaField('income_10000_14999', 'FLOAT', 'NULLABLE', None, None, (), None),\n",
              " SchemaField('rent_25_to_30_percent', 'FLOAT', 'NULLABLE', None, None, (), None),\n",
              " SchemaField('father_in_labor_force_one_parent_families_with_young_children', 'FLOAT', 'NULLABLE', None, None, (), None),\n",
              " SchemaField('employed_pop', 'FLOAT', 'NULLABLE', None, None, (), None),\n",
              " SchemaField('pop_determined_poverty_status', 'FLOAT', 'NULLABLE', None, None, (), None),\n",
              " SchemaField('poverty', 'FLOAT', 'NULLABLE', None, None, (), None),\n",
              " SchemaField('commute_60_89_mins', 'FLOAT', 'NULLABLE', None, None, (), None),\n",
              " SchemaField('do_date', 'FLOAT', 'NULLABLE', None, None, (), None),\n",
              " SchemaField('male_under_5', 'FLOAT', 'NULLABLE', None, None, (), None),\n",
              " SchemaField('vacant_housing_units_for_sale', 'FLOAT', 'NULLABLE', None, None, (), None),\n",
              " SchemaField('income_75000_99999', 'FLOAT', 'NULLABLE', None, None, (), None),\n",
              " SchemaField('employed_construction', 'FLOAT', 'NULLABLE', None, None, (), None),\n",
              " SchemaField('female_under_5', 'FLOAT', 'NULLABLE', None, None, (), None),\n",
              " SchemaField('female_65_to_66', 'FLOAT', 'NULLABLE', None, None, (), None),\n",
              " SchemaField('owner_occupied_housing_units_median_value', 'FLOAT', 'NULLABLE', None, None, (), None),\n",
              " SchemaField('male_45_to_49', 'FLOAT', 'NULLABLE', None, None, (), None),\n",
              " SchemaField('children_in_single_female_hh', 'FLOAT', 'NULLABLE', None, None, (), None),\n",
              " SchemaField('percent_income_spent_on_rent', 'FLOAT', 'NULLABLE', None, None, (), None),\n",
              " SchemaField('speak_only_english_at_home', 'FLOAT', 'NULLABLE', None, None, (), None),\n",
              " SchemaField('income_30000_34999', 'FLOAT', 'NULLABLE', None, None, (), None),\n",
              " SchemaField('households', 'FLOAT', 'NULLABLE', None, None, (), None),\n",
              " SchemaField('families_with_young_children', 'FLOAT', 'NULLABLE', None, None, (), None),\n",
              " SchemaField('female_70_to_74', 'FLOAT', 'NULLABLE', None, None, (), None),\n",
              " SchemaField('female_80_to_84', 'FLOAT', 'NULLABLE', None, None, (), None),\n",
              " SchemaField('sales_office_employed', 'FLOAT', 'NULLABLE', None, None, (), None),\n",
              " SchemaField('father_one_parent_families_with_young_children', 'FLOAT', 'NULLABLE', None, None, (), None),\n",
              " SchemaField('employed_public_administration', 'FLOAT', 'NULLABLE', None, None, (), None),\n",
              " SchemaField('employed_arts_entertainment_recreation_accommodation_food', 'FLOAT', 'NULLABLE', None, None, (), None),\n",
              " SchemaField('four_more_cars', 'FLOAT', 'NULLABLE', None, None, (), None),\n",
              " SchemaField('female_10_to_14', 'FLOAT', 'NULLABLE', None, None, (), None),\n",
              " SchemaField('not_hispanic_pop', 'FLOAT', 'NULLABLE', None, None, (), None),\n",
              " SchemaField('female_18_to_19', 'FLOAT', 'NULLABLE', None, None, (), None),\n",
              " SchemaField('households_retirement_income', 'FLOAT', 'NULLABLE', None, None, (), None),\n",
              " SchemaField('commuters_drove_alone', 'FLOAT', 'NULLABLE', None, None, (), None),\n",
              " SchemaField('commute_20_24_mins', 'FLOAT', 'NULLABLE', None, None, (), None),\n",
              " SchemaField('commuters_by_public_transportation', 'FLOAT', 'NULLABLE', None, None, (), None),\n",
              " SchemaField('occupation_production_transportation_material', 'FLOAT', 'NULLABLE', None, None, (), None),\n",
              " SchemaField('housing_built_1939_or_earlier', 'FLOAT', 'NULLABLE', None, None, (), None),\n",
              " SchemaField('not_in_labor_force', 'FLOAT', 'NULLABLE', None, None, (), None),\n",
              " SchemaField('masters_degree', 'FLOAT', 'NULLABLE', None, None, (), None),\n",
              " SchemaField('occupation_natural_resources_construction_maintenance', 'FLOAT', 'NULLABLE', None, None, (), None),\n",
              " SchemaField('white_pop', 'FLOAT', 'NULLABLE', None, None, (), None),\n",
              " SchemaField('male_45_64_associates_degree', 'FLOAT', 'NULLABLE', None, None, (), None),\n",
              " SchemaField('commute_30_34_mins', 'FLOAT', 'NULLABLE', None, None, (), None),\n",
              " SchemaField('one_car', 'FLOAT', 'NULLABLE', None, None, (), None),\n",
              " SchemaField('income_40000_44999', 'FLOAT', 'NULLABLE', None, None, (), None),\n",
              " SchemaField('male_62_64', 'FLOAT', 'NULLABLE', None, None, (), None),\n",
              " SchemaField('income_150000_199999', 'FLOAT', 'NULLABLE', None, None, (), None),\n",
              " SchemaField('hispanic_male_45_54', 'FLOAT', 'NULLABLE', None, None, (), None),\n",
              " SchemaField('male_20', 'FLOAT', 'NULLABLE', None, None, (), None),\n",
              " SchemaField('vacant_housing_units_for_rent', 'FLOAT', 'NULLABLE', None, None, (), None),\n",
              " SchemaField('black_including_hispanic', 'FLOAT', 'NULLABLE', None, None, (), None),\n",
              " SchemaField('female_85_and_over', 'FLOAT', 'NULLABLE', None, None, (), None),\n",
              " SchemaField('pop_widowed', 'FLOAT', 'NULLABLE', None, None, (), None),\n",
              " SchemaField('income_45000_49999', 'FLOAT', 'NULLABLE', None, None, (), None),\n",
              " SchemaField('high_school_including_ged', 'FLOAT', 'NULLABLE', None, None, (), None),\n",
              " SchemaField('commute_5_9_mins', 'FLOAT', 'NULLABLE', None, None, (), None),\n",
              " SchemaField('other_race_pop', 'FLOAT', 'NULLABLE', None, None, (), None),\n",
              " SchemaField('employed_other_services_not_public_admin', 'FLOAT', 'NULLABLE', None, None, (), None),\n",
              " SchemaField('black_male_45_54', 'FLOAT', 'NULLABLE', None, None, (), None),\n",
              " SchemaField('worked_at_home', 'FLOAT', 'NULLABLE', None, None, (), None),\n",
              " SchemaField('female_35_to_39', 'FLOAT', 'NULLABLE', None, None, (), None),\n",
              " SchemaField('male_45_64_high_school', 'FLOAT', 'NULLABLE', None, None, (), None),\n",
              " SchemaField('male_45_to_64', 'FLOAT', 'NULLABLE', None, None, (), None),\n",
              " SchemaField('asian_including_hispanic', 'FLOAT', 'NULLABLE', None, None, (), None),\n",
              " SchemaField('male_25_to_29', 'FLOAT', 'NULLABLE', None, None, (), None),\n",
              " SchemaField('walked_to_work', 'FLOAT', 'NULLABLE', None, None, (), None),\n",
              " SchemaField('male_65_to_66', 'FLOAT', 'NULLABLE', None, None, (), None),\n",
              " SchemaField('different_house_year_ago_different_city', 'FLOAT', 'NULLABLE', None, None, (), None),\n",
              " SchemaField('pop_now_married', 'FLOAT', 'NULLABLE', None, None, (), None),\n",
              " SchemaField('commute_35_39_mins', 'FLOAT', 'NULLABLE', None, None, (), None),\n",
              " SchemaField('three_cars', 'FLOAT', 'NULLABLE', None, None, (), None),\n",
              " SchemaField('white_including_hispanic', 'FLOAT', 'NULLABLE', None, None, (), None),\n",
              " SchemaField('commuters_16_over', 'FLOAT', 'NULLABLE', None, None, (), None),\n",
              " SchemaField('rent_10_to_15_percent', 'FLOAT', 'NULLABLE', None, None, (), None),\n",
              " SchemaField('female_15_to_17', 'FLOAT', 'NULLABLE', None, None, (), None),\n",
              " SchemaField('rent_burden_not_computed', 'FLOAT', 'NULLABLE', None, None, (), None),\n",
              " SchemaField('high_school_diploma', 'FLOAT', 'NULLABLE', None, None, (), None),\n",
              " SchemaField('children', 'FLOAT', 'NULLABLE', None, None, (), None),\n",
              " SchemaField('male_22_to_24', 'FLOAT', 'NULLABLE', None, None, (), None),\n",
              " SchemaField('unemployed_pop', 'FLOAT', 'NULLABLE', None, None, (), None),\n",
              " SchemaField('male_55_to_59', 'FLOAT', 'NULLABLE', None, None, (), None),\n",
              " SchemaField('employed_science_management_admin_waste', 'FLOAT', 'NULLABLE', None, None, (), None),\n",
              " SchemaField('male_15_to_17', 'FLOAT', 'NULLABLE', None, None, (), None),\n",
              " SchemaField('mobile_homes', 'FLOAT', 'NULLABLE', None, None, (), None),\n",
              " SchemaField('year', 'INTEGER', 'NULLABLE', None, None, (), None)]"
            ]
          },
          "metadata": {},
          "execution_count": 13
        }
      ]
    },
    {
      "cell_type": "code",
      "source": [
        "sql_query = \"\"\"\n",
        "SELECT distinct(unemployed_pop)\n",
        "FROM `weatherlink-404323.weatherlink_master.census_master`\n",
        "\"\"\"\n",
        "\n",
        "df = client.query(sql_query).to_dataframe()\n",
        "print(df)"
      ],
      "metadata": {
        "colab": {
          "base_uri": "https://localhost:8080/"
        },
        "id": "F0fCW_Rr0796",
        "outputId": "2324d8a1-c9d5-454a-a7fb-f68e967da022"
      },
      "execution_count": null,
      "outputs": [
        {
          "output_type": "stream",
          "name": "stdout",
          "text": [
            "   unemployed_pop\n",
            "0             NaN\n"
          ]
        }
      ]
    },
    {
      "cell_type": "code",
      "source": [
        "sql_query = \"\"\"\n",
        "SELECT distinct year\n",
        "FROM `weatherlink-404323.weatherlink_master.census_master` order by year asc\n",
        "\"\"\"\n",
        "#DISTINCT YEARS\n",
        "df = client.query(sql_query).to_dataframe()\n",
        "print(df)"
      ],
      "metadata": {
        "colab": {
          "base_uri": "https://localhost:8080/"
        },
        "id": "E9GDpKtjZMAT",
        "outputId": "7d649ae8-a96b-4979-b15d-4ed337bb4692"
      },
      "execution_count": null,
      "outputs": [
        {
          "output_type": "stream",
          "name": "stdout",
          "text": [
            "    year\n",
            "0   2007\n",
            "1   2008\n",
            "2   2009\n",
            "3   2010\n",
            "4   2011\n",
            "5   2012\n",
            "6   2013\n",
            "7   2014\n",
            "8   2015\n",
            "9   2016\n",
            "10  2017\n",
            "11  2018\n",
            "12  2019\n",
            "13  2021\n"
          ]
        }
      ]
    },
    {
      "cell_type": "code",
      "source": [
        "sql_query = \"\"\"\n",
        "SELECT distinct geo_id\n",
        "FROM `weatherlink-404323.weatherlink_master.census_master` order by geo_id asc\n",
        "\"\"\"\n",
        "#DISTINCT geo_id\n",
        "df = client.query(sql_query).to_dataframe()\n",
        "print(df)"
      ],
      "metadata": {
        "colab": {
          "base_uri": "https://localhost:8080/"
        },
        "id": "ckk-RWhaa3Q7",
        "outputId": "9f0160e9-b81e-4dae-d3a9-559a51085ca3"
      },
      "execution_count": null,
      "outputs": [
        {
          "output_type": "stream",
          "name": "stdout",
          "text": [
            "     geo_id\n",
            "0      1003\n",
            "1      1015\n",
            "2      1043\n",
            "3      1049\n",
            "4      1051\n",
            "..      ...\n",
            "848   72113\n",
            "849   72127\n",
            "850   72135\n",
            "851   72137\n",
            "852   72139\n",
            "\n",
            "[853 rows x 1 columns]\n"
          ]
        }
      ]
    },
    {
      "cell_type": "markdown",
      "source": [
        "### **TABLE ACCIDENT MASTER**"
      ],
      "metadata": {
        "id": "8W3N0cbtWTQt"
      }
    },
    {
      "cell_type": "code",
      "source": [
        "table_accident_master = client.get_table(\"weatherlink-404323.weatherlink_master.accident_master\")"
      ],
      "metadata": {
        "id": "mq8QyFGQRa9Y"
      },
      "execution_count": null,
      "outputs": []
    },
    {
      "cell_type": "code",
      "source": [
        "sql_query = \"\"\"\n",
        "SELECT manner_of_collision_name, geoid, year, hour_of_crash, month_of_crash, day_of_week_name, light_condition_name, atmospheric_conditions_1_name\n",
        "FROM `weatherlink-404323.weatherlink_master.accident_master`  where atmospheric_conditions_1_name != \"Reported as Unknown\" and\n",
        "atmospheric_conditions_1_name != \"Not Reported\" and atmospheric_conditions_1_name != \"Unknown\"\n",
        "\"\"\"\n",
        "df = client.query(sql_query).to_dataframe()\n",
        "print(df)"
      ],
      "metadata": {
        "colab": {
          "base_uri": "https://localhost:8080/"
        },
        "id": "UeAc7B1Y9GxG",
        "outputId": "e807b5db-9c87-43a3-80a8-d6c71912f091"
      },
      "execution_count": null,
      "outputs": [
        {
          "output_type": "stream",
          "name": "stdout",
          "text": [
            "                                 manner_of_collision_name  geoid  year  \\\n",
            "0         Not a Collision with Motor Vehicle In-Transport   4015  2015   \n",
            "1         Not a Collision with Motor Vehicle In-Transport  16077  2015   \n",
            "2         Not a Collision with Motor Vehicle In-Transport  21145  2015   \n",
            "3         Not a Collision with Motor Vehicle In-Transport  23011  2015   \n",
            "4         Not a Collision with Motor Vehicle In-Transport  30003  2015   \n",
            "...                                                   ...    ...   ...   \n",
            "191514  The First Harmful Event was Not a Collision wi...   4017  2020   \n",
            "191515  The First Harmful Event was Not a Collision wi...  12105  2020   \n",
            "191516  The First Harmful Event was Not a Collision wi...  12095  2020   \n",
            "191517  The First Harmful Event was Not a Collision wi...  34013  2020   \n",
            "191518  The First Harmful Event was Not a Collision wi...  53063  2020   \n",
            "\n",
            "        hour_of_crash  month_of_crash day_of_week_name  \\\n",
            "0                   0               6           Friday   \n",
            "1                   0               6           Friday   \n",
            "2                   0               8           Friday   \n",
            "3                   0              11         Thursday   \n",
            "4                  23               8         Thursday   \n",
            "...               ...             ...              ...   \n",
            "191514             22               7           Friday   \n",
            "191515              0               6           Friday   \n",
            "191516              7               9        Wednesday   \n",
            "191517              5              12        Wednesday   \n",
            "191518             23              10          Tuesday   \n",
            "\n",
            "           light_condition_name atmospheric_conditions_1_name  \n",
            "0            Dark - Not Lighted                         Clear  \n",
            "1            Dark - Not Lighted                         Clear  \n",
            "2                Dark - Lighted                         Clear  \n",
            "3            Dark - Not Lighted                         Clear  \n",
            "4            Dark - Not Lighted                         Clear  \n",
            "...                         ...                           ...  \n",
            "191514      Reported as Unknown      Blowing Sand, Soil, Dirt  \n",
            "191515           Dark - Lighted                          Rain  \n",
            "191516  Dark - Unknown Lighting                         Clear  \n",
            "191517                     Dawn                         Clear  \n",
            "191518       Dark - Not Lighted                         Clear  \n",
            "\n",
            "[191519 rows x 8 columns]\n"
          ]
        }
      ]
    },
    {
      "cell_type": "code",
      "source": [
        "table_accident_master.schema"
      ],
      "metadata": {
        "colab": {
          "base_uri": "https://localhost:8080/"
        },
        "id": "hUA93pirRMDm",
        "outputId": "5b3f782a-7448-4863-d037-edc384bbd832"
      },
      "execution_count": null,
      "outputs": [
        {
          "output_type": "execute_result",
          "data": {
            "text/plain": [
              "[SchemaField('number_of_persons_in_motor_vehicles_in_transport_mvit', 'INTEGER', 'NULLABLE', None, None, (), None),\n",
              " SchemaField('milepoint_name', 'STRING', 'NULLABLE', None, None, (), None),\n",
              " SchemaField('number_of_forms_submitted_for_persons_in_motor_vehicles', 'INTEGER', 'NULLABLE', None, None, (), None),\n",
              " SchemaField('ownership_name', 'STRING', 'NULLABLE', None, None, (), None),\n",
              " SchemaField('relation_to_junction_within_interchange_area_name', 'STRING', 'NULLABLE', None, None, (), None),\n",
              " SchemaField('hour_of_crash', 'INTEGER', 'NULLABLE', None, None, (), None),\n",
              " SchemaField('school_bus_related_name', 'STRING', 'NULLABLE', None, None, (), None),\n",
              " SchemaField('functional_system_name', 'STRING', 'NULLABLE', None, None, (), None),\n",
              " SchemaField('school_bus_related', 'FLOAT', 'NULLABLE', None, None, (), None),\n",
              " SchemaField('number_of_parked_working_vehicles', 'INTEGER', 'NULLABLE', None, None, (), None),\n",
              " SchemaField('year_of_crash', 'INTEGER', 'NULLABLE', None, None, (), None),\n",
              " SchemaField('related_factors_crash_level_1_name', 'STRING', 'NULLABLE', None, None, (), None),\n",
              " SchemaField('special_jurisdiction_name', 'STRING', 'NULLABLE', None, None, (), None),\n",
              " SchemaField('relation_to_junction_within_interchange_area', 'INTEGER', 'NULLABLE', None, None, (), None),\n",
              " SchemaField('first_harmful_event_name', 'STRING', 'NULLABLE', None, None, (), None),\n",
              " SchemaField('related_factors_crash_level_2', 'FLOAT', 'NULLABLE', None, None, (), None),\n",
              " SchemaField('light_condition_name', 'STRING', 'NULLABLE', None, None, (), None),\n",
              " SchemaField('light_condition', 'INTEGER', 'NULLABLE', None, None, (), None),\n",
              " SchemaField('minute_of_notification_name', 'STRING', 'NULLABLE', None, None, (), None),\n",
              " SchemaField('consecutive_number', 'INTEGER', 'NULLABLE', None, None, (), None),\n",
              " SchemaField('rail_grade_crossing_identifier', 'STRING', 'NULLABLE', None, None, (), None),\n",
              " SchemaField('day_name', 'INTEGER', 'NULLABLE', None, None, (), None),\n",
              " SchemaField('hour_of_notification_name', 'STRING', 'NULLABLE', None, None, (), None),\n",
              " SchemaField('national_highway_system_name', 'STRING', 'NULLABLE', None, None, (), None),\n",
              " SchemaField('related_factors_crash_level_3', 'FLOAT', 'NULLABLE', None, None, (), None),\n",
              " SchemaField('hour_of_arrival_at_scene', 'INTEGER', 'NULLABLE', None, None, (), None),\n",
              " SchemaField('minute_of_ems_arrival_at_hospital_name', 'STRING', 'NULLABLE', None, None, (), None),\n",
              " SchemaField('state_name', 'STRING', 'NULLABLE', None, None, (), None),\n",
              " SchemaField('land_use', 'INTEGER', 'NULLABLE', None, None, (), None),\n",
              " SchemaField('minute_of_ems_arrival_at_hospital', 'INTEGER', 'NULLABLE', None, None, (), None),\n",
              " SchemaField('relation_to_junction_specific_location', 'INTEGER', 'NULLABLE', None, None, (), None),\n",
              " SchemaField('first_harmful_event', 'INTEGER', 'NULLABLE', None, None, (), None),\n",
              " SchemaField('number_of_drunk_drivers', 'INTEGER', 'NULLABLE', None, None, (), None),\n",
              " SchemaField('atmospheric_conditions_1_name', 'STRING', 'NULLABLE', None, None, (), None),\n",
              " SchemaField('latitude', 'FLOAT', 'NULLABLE', None, None, (), None),\n",
              " SchemaField('related_factors_crash_level_1', 'FLOAT', 'NULLABLE', None, None, (), None),\n",
              " SchemaField('number_of_persons_not_in_motor_vehicles_in_transport_mvit', 'INTEGER', 'NULLABLE', None, None, (), None),\n",
              " SchemaField('longitude', 'FLOAT', 'NULLABLE', None, None, (), None),\n",
              " SchemaField('land_use_name', 'STRING', 'NULLABLE', None, None, (), None),\n",
              " SchemaField('route_signing', 'INTEGER', 'NULLABLE', None, None, (), None),\n",
              " SchemaField('hour_of_crash_name', 'STRING', 'NULLABLE', None, None, (), None),\n",
              " SchemaField('minute_of_notification', 'INTEGER', 'NULLABLE', None, None, (), None),\n",
              " SchemaField('city', 'INTEGER', 'NULLABLE', None, None, (), None),\n",
              " SchemaField('minute_of_arrival_at_scene_name', 'STRING', 'NULLABLE', None, None, (), None),\n",
              " SchemaField('number_of_forms_submitted_for_persons_not_in_motor_vehicles', 'INTEGER', 'NULLABLE', None, None, (), None),\n",
              " SchemaField('county', 'INTEGER', 'NULLABLE', None, None, (), None),\n",
              " SchemaField('milepoint', 'INTEGER', 'NULLABLE', None, None, (), None),\n",
              " SchemaField('rail_grade_crossing_identifier_name', 'STRING', 'NULLABLE', None, None, (), None),\n",
              " SchemaField('number_of_motor_vehicles_in_transport_mvit', 'INTEGER', 'NULLABLE', None, None, (), None),\n",
              " SchemaField('relation_to_junction_specific_location_name', 'STRING', 'NULLABLE', None, None, (), None),\n",
              " SchemaField('atmospheric_conditions', 'FLOAT', 'NULLABLE', None, None, (), None),\n",
              " SchemaField('month_of_crash_name', 'STRING', 'NULLABLE', None, None, (), None),\n",
              " SchemaField('day_of_week_name', 'STRING', 'NULLABLE', None, None, (), None),\n",
              " SchemaField('timestamp_of_crash', 'STRING', 'NULLABLE', None, None, (), None),\n",
              " SchemaField('hour_of_ems_arrival_at_hospital_name', 'STRING', 'NULLABLE', None, None, (), None),\n",
              " SchemaField('national_highway_system', 'INTEGER', 'NULLABLE', None, None, (), None),\n",
              " SchemaField('hour_of_notification', 'INTEGER', 'NULLABLE', None, None, (), None),\n",
              " SchemaField('related_factors_crash_level_2_name', 'STRING', 'NULLABLE', None, None, (), None),\n",
              " SchemaField('number_of_vehicle_forms_submitted_all', 'INTEGER', 'NULLABLE', None, None, (), None),\n",
              " SchemaField('type_of_intersection', 'INTEGER', 'NULLABLE', None, None, (), None),\n",
              " SchemaField('trafficway_identifier_2', 'STRING', 'NULLABLE', None, None, (), None),\n",
              " SchemaField('manner_of_collision_name', 'STRING', 'NULLABLE', None, None, (), None),\n",
              " SchemaField('hour_of_arrival_at_scene_name', 'STRING', 'NULLABLE', None, None, (), None),\n",
              " SchemaField('route_signing_name', 'STRING', 'NULLABLE', None, None, (), None),\n",
              " SchemaField('latitude_name', 'STRING', 'NULLABLE', None, None, (), None),\n",
              " SchemaField('minute_of_arrival_at_scene', 'INTEGER', 'NULLABLE', None, None, (), None),\n",
              " SchemaField('day_of_week', 'INTEGER', 'NULLABLE', None, None, (), None),\n",
              " SchemaField('atmospheric_conditions_2_name', 'STRING', 'NULLABLE', None, None, (), None),\n",
              " SchemaField('special_jurisdiction', 'INTEGER', 'NULLABLE', None, None, (), None),\n",
              " SchemaField('relation_to_trafficway', 'INTEGER', 'NULLABLE', None, None, (), None),\n",
              " SchemaField('relation_to_trafficway_name', 'STRING', 'NULLABLE', None, None, (), None),\n",
              " SchemaField('functional_system', 'INTEGER', 'NULLABLE', None, None, (), None),\n",
              " SchemaField('day_of_crash', 'INTEGER', 'NULLABLE', None, None, (), None),\n",
              " SchemaField('hour_of_ems_arrival_at_hospital', 'INTEGER', 'NULLABLE', None, None, (), None),\n",
              " SchemaField('month_of_crash', 'INTEGER', 'NULLABLE', None, None, (), None),\n",
              " SchemaField('state_number', 'INTEGER', 'NULLABLE', None, None, (), None),\n",
              " SchemaField('trafficway_identifier', 'STRING', 'NULLABLE', None, None, (), None),\n",
              " SchemaField('minute_of_crash_name', 'INTEGER', 'NULLABLE', None, None, (), None),\n",
              " SchemaField('type_of_intersection_name', 'STRING', 'NULLABLE', None, None, (), None),\n",
              " SchemaField('atmospheric_conditions_1', 'INTEGER', 'NULLABLE', None, None, (), None),\n",
              " SchemaField('longitude_name', 'STRING', 'NULLABLE', None, None, (), None),\n",
              " SchemaField('work_zone_name', 'STRING', 'NULLABLE', None, None, (), None),\n",
              " SchemaField('atmospheric_conditions_name', 'STRING', 'NULLABLE', None, None, (), None),\n",
              " SchemaField('atmospheric_conditions_2', 'INTEGER', 'NULLABLE', None, None, (), None),\n",
              " SchemaField('related_factors_crash_level_3_name', 'STRING', 'NULLABLE', None, None, (), None),\n",
              " SchemaField('work_zone', 'INTEGER', 'NULLABLE', None, None, (), None),\n",
              " SchemaField('minute_of_crash', 'INTEGER', 'NULLABLE', None, None, (), None),\n",
              " SchemaField('number_of_fatalities', 'INTEGER', 'NULLABLE', None, None, (), None),\n",
              " SchemaField('ownership', 'INTEGER', 'NULLABLE', None, None, (), None),\n",
              " SchemaField('manner_of_collision', 'INTEGER', 'NULLABLE', None, None, (), None),\n",
              " SchemaField('year', 'INTEGER', 'NULLABLE', None, None, (), None),\n",
              " SchemaField('geoid', 'INTEGER', 'NULLABLE', None, None, (), None)]"
            ]
          },
          "metadata": {},
          "execution_count": 18
        }
      ]
    },
    {
      "cell_type": "code",
      "source": [
        "print(table_accident_master.num_rows)"
      ],
      "metadata": {
        "colab": {
          "base_uri": "https://localhost:8080/"
        },
        "id": "63bsztekTrL_",
        "outputId": "ecb79bd2-e8a8-406a-bd6e-e713cbc01705"
      },
      "execution_count": null,
      "outputs": [
        {
          "output_type": "stream",
          "name": "stdout",
          "text": [
            "203465\n"
          ]
        }
      ]
    },
    {
      "cell_type": "code",
      "source": [
        "sql_query = \"\"\"\n",
        "SELECT count(ownership_name), ownership_name\n",
        "FROM `weatherlink-404323.weatherlink_master.accident_master` group by ownership_name\n",
        "\"\"\"\n",
        "\n",
        "df = client.query(sql_query).to_dataframe()\n",
        "print(df)"
      ],
      "metadata": {
        "colab": {
          "base_uri": "https://localhost:8080/"
        },
        "id": "1vs2lTAGaLlG",
        "outputId": "95671263-e764-42c7-f5dd-a0226f16b0a7"
      },
      "execution_count": null,
      "outputs": [
        {
          "output_type": "stream",
          "name": "stdout",
          "text": [
            "       f0_                                ownership_name\n",
            "0   111649                          State Highway Agency\n",
            "1      793                               State Toll Road\n",
            "2    34487                                  Not Reported\n",
            "3      120                          Other Federal Agency\n",
            "4     5331               Town or Township Highway Agency\n",
            "5     2143                                       Unknown\n",
            "6       87     State Park, Forest, or Reservation Agency\n",
            "7    23592              City or Municipal Highway Agency\n",
            "8    22021                         County Highway Agency\n",
            "9       89                           U.S. Forest Service\n",
            "10    1992                            Other Local Agency\n",
            "11     519             Trafficway Not in State Inventory\n",
            "12     238                      Bureau of Indian Affairs\n",
            "13      12                                          Army\n",
            "14      73                           Indian Tribe Nation\n",
            "15      92                         National Park Service\n",
            "16      66                            Other State Agency\n",
            "17       7  Other Public Instrumentality (i.e., Airport)\n",
            "18      18      Local Park, Forest or Reservation Agency\n",
            "19      14                          Local Toll Authority\n",
            "20      69                 Private (other than Railroad)\n",
            "21      10                     Bureau of Land Management\n",
            "22       1                                  Navy/Marines\n",
            "23      36                                      Railroad\n",
            "24       2                            Corps of Engineers\n",
            "25       1                    Tennessee Valley Authority\n",
            "26       1                         Bureau of Reclamation\n",
            "27       2                   Bureau of Fish and Wildlife\n"
          ]
        }
      ]
    },
    {
      "cell_type": "code",
      "source": [
        "sql_query = \"\"\"\n",
        "SELECT count(number_of_fatalities), number_of_fatalities\n",
        "FROM `weatherlink-404323.weatherlink_master.accident_master` group by number_of_fatalities\n",
        "\"\"\"\n",
        "\n",
        "df = client.query(sql_query).to_dataframe()\n",
        "print(df)\n"
      ],
      "metadata": {
        "colab": {
          "base_uri": "https://localhost:8080/"
        },
        "id": "hPvaQ-OCe47q",
        "outputId": "3b674cfd-9e12-4418-d187-695eb6e211c4"
      },
      "execution_count": null,
      "outputs": [
        {
          "output_type": "stream",
          "name": "stdout",
          "text": [
            "       f0_  number_of_fatalities\n",
            "0   189049                     1\n",
            "1    12030                     2\n",
            "2     1775                     3\n",
            "3      449                     4\n",
            "4      115                     5\n",
            "5       32                     6\n",
            "6        1                    10\n",
            "7        5                     8\n",
            "8        1                     9\n",
            "9        5                     7\n",
            "10       2                    13\n",
            "11       1                    20\n"
          ]
        }
      ]
    },
    {
      "cell_type": "code",
      "source": [
        "sql_query = \"\"\"\n",
        "SELECT distinct geoid\n",
        "FROM `weatherlink-404323.weatherlink_master.accident_master` order by geoid asc\n",
        "\"\"\"\n",
        "#DISTINCT geo_id\n",
        "df = client.query(sql_query).to_dataframe()\n",
        "print(df)"
      ],
      "metadata": {
        "colab": {
          "base_uri": "https://localhost:8080/"
        },
        "id": "P3qqt5hWas69",
        "outputId": "71effc9f-d53e-4aa4-999b-d11e44525346"
      },
      "execution_count": null,
      "outputs": [
        {
          "output_type": "stream",
          "name": "stdout",
          "text": [
            "      geoid\n",
            "0      1001\n",
            "1      1003\n",
            "2      1005\n",
            "3      1007\n",
            "4      1009\n",
            "...     ...\n",
            "3117  56037\n",
            "3118  56039\n",
            "3119  56041\n",
            "3120  56043\n",
            "3121  56045\n",
            "\n",
            "[3122 rows x 1 columns]\n"
          ]
        }
      ]
    },
    {
      "cell_type": "code",
      "source": [
        "sql_query = \"\"\"\n",
        "SELECT distinct geoid\n",
        "FROM `weatherlink-404323.weatherlink_master.accident_master` order by geoid asc\n",
        "\"\"\"\n",
        "#DISTINCT geo_id\n",
        "df = client.query(sql_query).to_dataframe()\n",
        "print(df)"
      ],
      "metadata": {
        "id": "n4HOg9t5boD-"
      },
      "execution_count": null,
      "outputs": []
    },
    {
      "cell_type": "markdown",
      "source": [
        "### **Accident Response Times**"
      ],
      "metadata": {
        "id": "jiuS7oLcal1c"
      }
    },
    {
      "cell_type": "code",
      "source": [
        "table_accident_response_times = client.get_table(\"weatherlink-404323.weatherlink_master.accident_response_times\")"
      ],
      "metadata": {
        "id": "sA5yJbBTao6x"
      },
      "execution_count": null,
      "outputs": []
    },
    {
      "cell_type": "code",
      "source": [
        "table_accident_response_times.schema"
      ],
      "metadata": {
        "colab": {
          "base_uri": "https://localhost:8080/"
        },
        "id": "4Ps28FQ_asgn",
        "outputId": "3c53f319-61a3-492d-ac81-eda99424199a"
      },
      "execution_count": null,
      "outputs": [
        {
          "output_type": "execute_result",
          "data": {
            "text/plain": [
              "[SchemaField('geoid', 'INTEGER', 'NULLABLE', None, None, (), None),\n",
              " SchemaField('TotalResponseTime', 'FLOAT', 'NULLABLE', None, None, (), None),\n",
              " SchemaField('EmsResponseTime', 'FLOAT', 'NULLABLE', None, None, (), None),\n",
              " SchemaField('EmsDeliveryTime', 'FLOAT', 'NULLABLE', None, None, (), None),\n",
              " SchemaField('NotificationResponseTime', 'FLOAT', 'NULLABLE', None, None, (), None)]"
            ]
          },
          "metadata": {},
          "execution_count": 23
        }
      ]
    },
    {
      "cell_type": "code",
      "source": [
        "print(table_accident_response_times.num_rows)"
      ],
      "metadata": {
        "colab": {
          "base_uri": "https://localhost:8080/"
        },
        "id": "Gv7aOq0PdCBA",
        "outputId": "713011dc-04e1-48c2-c51c-9c91b953d214"
      },
      "execution_count": null,
      "outputs": [
        {
          "output_type": "stream",
          "name": "stdout",
          "text": [
            "831\n"
          ]
        }
      ]
    },
    {
      "cell_type": "code",
      "source": [
        "sql_query = \"\"\"\n",
        "SELECT distinct geoid\n",
        "FROM `weatherlink-404323.weatherlink_master.accident_response_times` order by geoid asc\n",
        "\"\"\"\n",
        "#DISTINCT geo_id\n",
        "df = client.query(sql_query).to_dataframe()\n",
        "print(df)"
      ],
      "metadata": {
        "colab": {
          "base_uri": "https://localhost:8080/"
        },
        "id": "_Lmhtxdya5Gj",
        "outputId": "fe643597-8282-4db4-84f6-4130c9bd0f10"
      },
      "execution_count": null,
      "outputs": [
        {
          "output_type": "stream",
          "name": "stdout",
          "text": [
            "     geoid\n",
            "0     1003\n",
            "1     1015\n",
            "2     1043\n",
            "3     1049\n",
            "4     1051\n",
            "..     ...\n",
            "826  55133\n",
            "827  55139\n",
            "828  55141\n",
            "829  56021\n",
            "830  56025\n",
            "\n",
            "[831 rows x 1 columns]\n"
          ]
        }
      ]
    },
    {
      "cell_type": "markdown",
      "source": [
        "### **WEATHER MASTER**"
      ],
      "metadata": {
        "id": "noM9UWH3Zazw"
      }
    },
    {
      "cell_type": "code",
      "source": [
        "table_weather_master = client.get_table(\"weatherlink-404323.weatherlink_master.weather_master\")"
      ],
      "metadata": {
        "id": "r_aYVVsfZZ92"
      },
      "execution_count": null,
      "outputs": []
    },
    {
      "cell_type": "code",
      "source": [
        "table_weather_master.schema"
      ],
      "metadata": {
        "colab": {
          "base_uri": "https://localhost:8080/"
        },
        "id": "0SGapRP7aBp9",
        "outputId": "00d7dd7b-6cf2-4361-8647-652d3ac821da"
      },
      "execution_count": null,
      "outputs": [
        {
          "output_type": "execute_result",
          "data": {
            "text/plain": [
              "[SchemaField('Year', 'INTEGER', 'NULLABLE', None, None, (), None),\n",
              " SchemaField('WBANNO', 'INTEGER', 'NULLABLE', None, None, (), None),\n",
              " SchemaField('LST_DATE', 'INTEGER', 'NULLABLE', None, None, (), None),\n",
              " SchemaField('CRX_VN', 'FLOAT', 'NULLABLE', None, None, (), None),\n",
              " SchemaField('LONGITUDE', 'FLOAT', 'NULLABLE', None, None, (), None),\n",
              " SchemaField('LATITUDE', 'FLOAT', 'NULLABLE', None, None, (), None),\n",
              " SchemaField('T_DAILY_MAX', 'FLOAT', 'NULLABLE', None, None, (), None),\n",
              " SchemaField('T_DAILY_MIN', 'FLOAT', 'NULLABLE', None, None, (), None),\n",
              " SchemaField('T_DAILY_MEAN', 'FLOAT', 'NULLABLE', None, None, (), None),\n",
              " SchemaField('T_DAILY_AVG', 'FLOAT', 'NULLABLE', None, None, (), None),\n",
              " SchemaField('P_DAILY_CALC', 'FLOAT', 'NULLABLE', None, None, (), None),\n",
              " SchemaField('SOLARAD_DAILY', 'FLOAT', 'NULLABLE', None, None, (), None),\n",
              " SchemaField('SUR_TEMP_DAILY_TYPE', 'STRING', 'NULLABLE', None, None, (), None),\n",
              " SchemaField('SUR_TEMP_DAILY_MAX', 'FLOAT', 'NULLABLE', None, None, (), None),\n",
              " SchemaField('SUR_TEMP_DAILY_MIN', 'FLOAT', 'NULLABLE', None, None, (), None),\n",
              " SchemaField('SUR_TEMP_DAILY_AVG', 'FLOAT', 'NULLABLE', None, None, (), None),\n",
              " SchemaField('RH_DAILY_MAX', 'FLOAT', 'NULLABLE', None, None, (), None),\n",
              " SchemaField('RH_DAILY_MIN', 'FLOAT', 'NULLABLE', None, None, (), None),\n",
              " SchemaField('RH_DAILY_AVG', 'FLOAT', 'NULLABLE', None, None, (), None),\n",
              " SchemaField('SOIL_MOISTURE_5_DAILY', 'FLOAT', 'NULLABLE', None, None, (), None),\n",
              " SchemaField('SOIL_MOISTURE_10_DAILY', 'FLOAT', 'NULLABLE', None, None, (), None),\n",
              " SchemaField('SOIL_MOISTURE_20_DAILY', 'FLOAT', 'NULLABLE', None, None, (), None),\n",
              " SchemaField('SOIL_MOISTURE_50_DAILY', 'FLOAT', 'NULLABLE', None, None, (), None),\n",
              " SchemaField('SOIL_MOISTURE_100_DAILY', 'FLOAT', 'NULLABLE', None, None, (), None),\n",
              " SchemaField('SOIL_TEMP_5_DAILY', 'FLOAT', 'NULLABLE', None, None, (), None),\n",
              " SchemaField('SOIL_TEMP_10_DAILY', 'FLOAT', 'NULLABLE', None, None, (), None),\n",
              " SchemaField('SOIL_TEMP_20_DAILY', 'FLOAT', 'NULLABLE', None, None, (), None),\n",
              " SchemaField('SOIL_TEMP_50_DAILY', 'FLOAT', 'NULLABLE', None, None, (), None),\n",
              " SchemaField('SOIL_TEMP_100_DAILY', 'FLOAT', 'NULLABLE', None, None, (), None),\n",
              " SchemaField('COUNTY_FIPS', 'FLOAT', 'NULLABLE', None, None, (), None),\n",
              " SchemaField('COUNTY_NAME', 'STRING', 'NULLABLE', None, None, (), None)]"
            ]
          },
          "metadata": {},
          "execution_count": 63
        }
      ]
    },
    {
      "cell_type": "code",
      "source": [
        "print(table_accident_master.num_rows)"
      ],
      "metadata": {
        "colab": {
          "base_uri": "https://localhost:8080/"
        },
        "id": "FU8H_B_9aGhR",
        "outputId": "3f0731b1-9f29-4642-e209-f891d61aef78"
      },
      "execution_count": null,
      "outputs": [
        {
          "output_type": "stream",
          "name": "stdout",
          "text": [
            "203465\n"
          ]
        }
      ]
    },
    {
      "cell_type": "code",
      "source": [
        "sql_query = \"\"\"\n",
        "SELECT distinct year\n",
        "FROM `weatherlink-404323.weatherlink_master.weather_master` order by year asc\n",
        "\"\"\"\n",
        "#DISTINCT YEARS\n",
        "df = client.query(sql_query).to_dataframe()\n",
        "print(df)"
      ],
      "metadata": {
        "colab": {
          "base_uri": "https://localhost:8080/"
        },
        "id": "c561UGetaHmt",
        "outputId": "2f279bfa-b9d3-430f-cb61-5d6950dd75d2"
      },
      "execution_count": null,
      "outputs": [
        {
          "output_type": "stream",
          "name": "stdout",
          "text": [
            "    year\n",
            "0   2006\n",
            "1   2007\n",
            "2   2008\n",
            "3   2009\n",
            "4   2010\n",
            "5   2011\n",
            "6   2012\n",
            "7   2013\n",
            "8   2014\n",
            "9   2015\n",
            "10  2016\n",
            "11  2017\n",
            "12  2018\n",
            "13  2019\n",
            "14  2020\n",
            "15  2021\n",
            "16  2022\n",
            "17  2023\n"
          ]
        }
      ]
    },
    {
      "cell_type": "markdown",
      "source": [
        "### **FILTERING DATA**"
      ],
      "metadata": {
        "id": "lcpradAsWcAH"
      }
    },
    {
      "cell_type": "code",
      "source": [
        "#ACCIDENT MASTER DATA TABLE FILTERED\n",
        "#%Y-%m-%d %H\n",
        "\n",
        "sql_query = \"\"\"\n",
        "CREATE OR REPLACE TABLE `weatherlink_master.accident_master_filtered` AS\n",
        "\n",
        "SELECT\n",
        "\n",
        "geoid,  FORMAT_TIMESTAMP('%Y-%m-%d', TIMESTAMP(timestamp_of_crash)) AS timestamp_of_crash, CAST(year as INT64) as year, month_of_crash,\n",
        "EXTRACT(week FROM TIMESTAMP(timestamp_of_crash )) as week_of_crash,  hour_of_crash, day_of_week_name,\n",
        "light_condition_name, atmospheric_conditions_1_name as atmospheric_cond_name, manner_of_collision_name, number_of_fatalities\n",
        "\n",
        "FROM `weatherlink-404323.weatherlink_master.accident_master`\n",
        "\n",
        "where\n",
        "\n",
        "atmospheric_conditions_1_name != \"Reported as Unknown\" and\n",
        "atmospheric_conditions_1_name != \"Not Reported\" and atmospheric_conditions_1_name != \"Unknown\" and CAST(year AS INT64) BETWEEN 2015 AND 2019\n",
        "\"\"\"\n",
        "df = client.query(sql_query).to_dataframe()\n",
        "print(df)\n"
      ],
      "metadata": {
        "id": "CwOuGzKegeE6",
        "colab": {
          "base_uri": "https://localhost:8080/"
        },
        "outputId": "1e323c7b-212f-4e28-be7e-a1e586911665"
      },
      "execution_count": null,
      "outputs": [
        {
          "output_type": "stream",
          "name": "stdout",
          "text": [
            "Empty DataFrame\n",
            "Columns: []\n",
            "Index: []\n"
          ]
        }
      ]
    },
    {
      "cell_type": "code",
      "source": [
        "#CENSUS MASTER DATA TABLE FILTERED\n",
        "sql_query = \"\"\"\n",
        "CREATE OR REPLACE TABLE `weatherlink_master.census_master_filtered` AS\n",
        "SELECT geo_id as geoid, year, CAST(total_pop as INT64) as total_pop, CAST(male_pop*100 / total_pop as INT64) as male_pop_ratio,\n",
        "CAST(no_car*1000 / total_pop as INT64) as no_car_ratio,\n",
        "CAST(median_age as INT64) as median_age, CAST(median_rent as INT64) as median_rent,\n",
        "CAST(income_per_capita as INT64) as income_per_capita\n",
        "\n",
        "FROM `weatherlink-404323.weatherlink_master.census_master` where year between 2015 and 2019\n",
        "\"\"\"\n",
        "\n",
        "df = client.query(sql_query).to_dataframe()\n",
        "print(df)"
      ],
      "metadata": {
        "colab": {
          "base_uri": "https://localhost:8080/"
        },
        "id": "2Axm3POFQ1Rx",
        "outputId": "05f2ea3c-5f96-419c-b74a-baf24cb17a55"
      },
      "execution_count": null,
      "outputs": [
        {
          "output_type": "stream",
          "name": "stdout",
          "text": [
            "Empty DataFrame\n",
            "Columns: []\n",
            "Index: []\n"
          ]
        }
      ]
    },
    {
      "cell_type": "code",
      "source": [
        "sql_query = \"\"\"\n",
        "SELECT geoid, year, CAST(total_pop as INT64) as total_pop, CAST(male_pop*100 / total_pop as INT64) as male_pop_ratio, CAST(no_car*1000 / total_pop as INT64) as no_car_ratio,\n",
        "CAST(median_age as INT64) as median_age, CAST(median_rent as INT64) as median_rent,\n",
        "CAST(income_per_capita as INT64) as income_per_capita\n",
        "\n",
        "FROM `weatherlink-404323.weatherlink_master.census_master_filtered`\n",
        "\"\"\"\n",
        "\n",
        "df = client.query(sql_query).to_dataframe()\n",
        "print(df)"
      ],
      "metadata": {
        "colab": {
          "base_uri": "https://localhost:8080/"
        },
        "id": "RMY-AcF_AghS",
        "outputId": "58ab3a20-22e2-4857-d174-ad57e9a5d8a3"
      },
      "execution_count": null,
      "outputs": [
        {
          "output_type": "stream",
          "name": "stdout",
          "text": [
            "      geoid  year  total_pop  male_pop_ratio  no_car_ratio  median_age  \\\n",
            "0     26073  2015      70698              48            19          28   \n",
            "1     18157  2015     185826              51            26          28   \n",
            "2     18105  2015     144705              49            24          28   \n",
            "3     38035  2015      70916              52            13          29   \n",
            "4     19103  2015     144251              49            25          30   \n",
            "...     ...   ...        ...             ...           ...         ...   \n",
            "4171  39157  2019      91987              50            20          42   \n",
            "4172  51165  2019      81948              49             7          42   \n",
            "4173  37151  2019     143667              50             7          42   \n",
            "4174  45051  2019     354081              48            11          48   \n",
            "4175  42025  2019      64182              50             8          48   \n",
            "\n",
            "      median_rent  income_per_capita  \n",
            "0             622              22381  \n",
            "1             669              25049  \n",
            "2             718              24722  \n",
            "3             755              32826  \n",
            "4             752              30144  \n",
            "...           ...                ...  \n",
            "4171          567              27251  \n",
            "4172          842              32317  \n",
            "4173          545              23596  \n",
            "4174          869              29879  \n",
            "4175          694              33959  \n",
            "\n",
            "[4176 rows x 8 columns]\n"
          ]
        }
      ]
    },
    {
      "cell_type": "code",
      "source": [
        "sql_query = \"\"\"\n",
        "CREATE OR REPLACE TABLE `weatherlink_master.census_accident_master_filtered` AS\n",
        "\n",
        "SELECT\n",
        "    a.geoid,\n",
        "    a.timestamp_of_crash,\n",
        "    a.year,\n",
        "    a.month_of_crash,\n",
        "    a.week_of_crash,\n",
        "    a.day_of_week_name,\n",
        "    a.hour_of_crash,\n",
        "    a.atmospheric_cond_name,\n",
        "    a.manner_of_collision_name,\n",
        "    a.number_of_fatalities,\n",
        "    a.light_condition_name,\n",
        "    b.no_car_ratio,\n",
        "    b.total_pop,\n",
        "    b.male_pop_ratio,\n",
        "    b.median_rent,\n",
        "    b.median_age,\n",
        "    b.income_per_capita\n",
        "FROM\n",
        "    `weatherlink_master.accident_master_filtered` a\n",
        "JOIN\n",
        "    `weatherlink_master.census_master_filtered` b\n",
        "ON\n",
        "    a.year = b.year AND a.geoid = b.geoid\n",
        "\n",
        "\"\"\"\n",
        "\n",
        "\n",
        "df = client.query(sql_query).to_dataframe()\n",
        "print(df)"
      ],
      "metadata": {
        "colab": {
          "base_uri": "https://localhost:8080/"
        },
        "id": "PPhj90ngESjb",
        "outputId": "6126872c-166a-4440-a7c6-309f794c75f1"
      },
      "execution_count": null,
      "outputs": [
        {
          "output_type": "stream",
          "name": "stdout",
          "text": [
            "Empty DataFrame\n",
            "Columns: []\n",
            "Index: []\n"
          ]
        }
      ]
    },
    {
      "cell_type": "code",
      "source": [
        "sql_query = \"\"\"\n",
        "\n",
        "SELECT\n",
        "  week_of_crash\n",
        "FROM\n",
        "  `weatherlink_master.census_accident_master_filtered`\n",
        "limit 10\n",
        "\n",
        "\"\"\"\n",
        "\n",
        "df = client.query(sql_query).to_dataframe()\n",
        "print(df)"
      ],
      "metadata": {
        "colab": {
          "base_uri": "https://localhost:8080/"
        },
        "id": "e1APHHM3EdPb",
        "outputId": "17503d7b-f2da-4450-d155-392cfe09ac32"
      },
      "execution_count": null,
      "outputs": [
        {
          "output_type": "stream",
          "name": "stdout",
          "text": [
            "   week_of_crash\n",
            "0              9\n",
            "1             20\n",
            "2             13\n",
            "3             18\n",
            "4             35\n",
            "5             12\n",
            "6             43\n",
            "7             21\n",
            "8             32\n",
            "9             37\n"
          ]
        }
      ]
    },
    {
      "cell_type": "code",
      "source": [
        "sql_query = \"\"\"\n",
        "select * from (\n",
        "SELECT\n",
        "  count(CONCAT(geoid, week_of_crash, day_of_week_name)) as count,  CONCAT(geoid, week_of_crash, day_of_week_name)\n",
        "FROM\n",
        "  `weatherlink_master.census_accident_master_filtered`\n",
        "GROUP BY\n",
        "  geoid, week_of_crash, day_of_week_name\n",
        "\n",
        "order by count desc\n",
        "\n",
        ")\n",
        "\"\"\"\n",
        "\n",
        "df = client.query(sql_query).to_dataframe()\n",
        "print(df)"
      ],
      "metadata": {
        "id": "4KO6QoHeFkTu",
        "colab": {
          "base_uri": "https://localhost:8080/"
        },
        "outputId": "190f3d55-c3f5-40f2-d8c0-3a9655e9a200"
      },
      "execution_count": null,
      "outputs": [
        {
          "output_type": "stream",
          "name": "stdout",
          "text": [
            "       count              f0_\n",
            "0         19     603742Sunday\n",
            "1         18   603749Saturday\n",
            "2         18     603746Sunday\n",
            "3         16   603745Thursday\n",
            "4         16     603739Sunday\n",
            "...      ...              ...\n",
            "77867      1  5503948Thursday\n",
            "77868      1    5503941Monday\n",
            "77869      1    5503935Sunday\n",
            "77870      1     550392Sunday\n",
            "77871      1  5503922Thursday\n",
            "\n",
            "[77872 rows x 2 columns]\n"
          ]
        }
      ]
    },
    {
      "cell_type": "code",
      "source": [
        "### DATASET WITH LABELS ###\n",
        "\n",
        "sql_query = \"\"\"\n",
        "\n",
        "SELECT\n",
        "   count(count) /365 as count, geoid, year\n",
        "FROM\n",
        "  `weatherlink_master.census_accident_master_filtered`\n",
        "GROUP BY\n",
        "  geoid, year\n",
        "ORDER BY\n",
        "count desc\n",
        "\"\"\"\n",
        "\n",
        "df = client.query(sql_query).to_dataframe()\n",
        "print(df)"
      ],
      "metadata": {
        "colab": {
          "base_uri": "https://localhost:8080/"
        },
        "id": "qQiWC0a1Nv1b",
        "outputId": "dface08e-8a82-4169-83f0-d74c021db187"
      },
      "execution_count": null,
      "outputs": [
        {
          "output_type": "stream",
          "name": "stdout",
          "text": [
            "         count  geoid  year\n",
            "0     2.106849   6037  2016\n",
            "1     1.912329   6037  2017\n",
            "2     1.876712   6037  2018\n",
            "3     1.852055   6037  2019\n",
            "4     1.657534   6037  2015\n",
            "...        ...    ...   ...\n",
            "4081  0.002740  44005  2015\n",
            "4082  0.002740  51177  2016\n",
            "4083  0.002740  51179  2016\n",
            "4084  0.002740  51199  2016\n",
            "4085  0.002740  51199  2017\n",
            "\n",
            "[4086 rows x 3 columns]\n"
          ]
        }
      ]
    }
  ]
}