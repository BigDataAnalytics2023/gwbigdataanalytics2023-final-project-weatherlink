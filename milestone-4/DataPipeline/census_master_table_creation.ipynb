{
  "nbformat": 4,
  "nbformat_minor": 0,
  "metadata": {
    "colab": {
      "provenance": []
    },
    "kernelspec": {
      "name": "python3",
      "display_name": "Python 3"
    },
    "language_info": {
      "name": "python"
    }
  },
  "cells": [
    {
      "cell_type": "markdown",
      "source": [
        "Authentication - you will need to upload the service account key json file when prompted\n"
      ],
      "metadata": {
        "id": "_jOsfGNHHFPc"
      }
    },
    {
      "cell_type": "code",
      "source": [
        "from google.colab import auth\n",
        "auth.authenticate_service_account()"
      ],
      "metadata": {
        "colab": {
          "base_uri": "https://localhost:8080/",
          "height": 52
        },
        "id": "ProjPD-QHD3j",
        "outputId": "9cb48de1-d829-42b5-afca-ab7c9f526d21"
      },
      "execution_count": null,
      "outputs": [
        {
          "output_type": "stream",
          "name": "stdout",
          "text": [
            "Successfully saved credentials for pipelineauth@weatherlink-404323.iam.gserviceaccount.com\n"
          ]
        }
      ]
    },
    {
      "cell_type": "markdown",
      "source": [
        "Testing querying data from GBQ now that we are authenticated:"
      ],
      "metadata": {
        "id": "ie3cG6IFKZS9"
      }
    },
    {
      "cell_type": "code",
      "source": [
        "from google.cloud import bigquery\n",
        "project_name='weatherlink-404323'\n",
        "client = bigquery.Client(project=project_name)\n",
        "\n",
        "dataset_name = 'weatherlink_master'\n",
        "table_name = 'census'\n",
        "\n",
        "sql_query = (f\"SELECT * FROM {dataset_name}.{table_name} LIMIT 10\")\n",
        "\n",
        "df = client.query(sql_query).to_dataframe()\n",
        "\n",
        "print(df)"
      ],
      "metadata": {
        "colab": {
          "base_uri": "https://localhost:8080/"
        },
        "id": "9lpnnGRGICmL",
        "outputId": "f0492bff-0ae9-48e3-8d07-6a81e5f44e93"
      },
      "execution_count": null,
      "outputs": [
        {
          "output_type": "stream",
          "name": "stdout",
          "text": [
            "  geo_id income_per_capita median_income  year\n",
            "0  36079            106871         48417  2021\n",
            "1  47065             66096         38668  2021\n",
            "2  12097             60585         26789  2021\n",
            "3   9003             80069         43636  2021\n",
            "4  42017            100144         50607  2021\n",
            "5  34029             75719         39055  2021\n",
            "6  18089             61443         31785  2021\n",
            "7   6067             80063         37259  2021\n",
            "8  49011             93182         38879  2021\n",
            "9  22071             46942         35587  2021\n"
          ]
        }
      ]
    },
    {
      "cell_type": "markdown",
      "source": [
        "Analyzing some of the census data, I want to see what the number of columns in each year are to see if they differ."
      ],
      "metadata": {
        "id": "HpDlXHT3KXlr"
      }
    },
    {
      "cell_type": "code",
      "source": [
        "accident_client = bigquery.Client()\n",
        "\n",
        "for i in range(2007,2024):\n",
        "  table_name = f\"bigquery-public-data.census_bureau_acs.county_{i}_1yr\"\n",
        "\n",
        "\n",
        "  sql_query = (f\"SELECT * FROM {table_name} LIMIT 1\")\n",
        "\n",
        "  try:\n",
        "    df = accident_client.query(sql_query).to_dataframe()\n",
        "    print (f\"Table name {table_name} has {(df.shape[1])} cols\")\n",
        "\n",
        "  #print(df)\n",
        "  except:\n",
        "    print (f\"Table name {table_name} was not found :( \")\n",
        "\n",
        "\n"
      ],
      "metadata": {
        "colab": {
          "base_uri": "https://localhost:8080/"
        },
        "id": "N54jQVDGKWh9",
        "outputId": "3fea4261-0af1-4a71-9ab9-c139bcb73169"
      },
      "execution_count": null,
      "outputs": [
        {
          "output_type": "stream",
          "name": "stdout",
          "text": [
            "Table name bigquery-public-data.census_bureau_acs.county_2007_1yr has 252 cols\n",
            "Table name bigquery-public-data.census_bureau_acs.county_2008_1yr has 252 cols\n",
            "Table name bigquery-public-data.census_bureau_acs.county_2009_1yr has 252 cols\n",
            "Table name bigquery-public-data.census_bureau_acs.county_2010_1yr has 247 cols\n",
            "Table name bigquery-public-data.census_bureau_acs.county_2011_1yr has 252 cols\n",
            "Table name bigquery-public-data.census_bureau_acs.county_2012_1yr has 252 cols\n",
            "Table name bigquery-public-data.census_bureau_acs.county_2013_1yr has 252 cols\n",
            "Table name bigquery-public-data.census_bureau_acs.county_2014_1yr has 252 cols\n",
            "Table name bigquery-public-data.census_bureau_acs.county_2015_1yr has 246 cols\n",
            "Table name bigquery-public-data.census_bureau_acs.county_2016_1yr has 252 cols\n",
            "Table name bigquery-public-data.census_bureau_acs.county_2017_1yr has 252 cols\n",
            "Table name bigquery-public-data.census_bureau_acs.county_2018_1yr has 252 cols\n",
            "Table name bigquery-public-data.census_bureau_acs.county_2019_1yr has 245 cols\n",
            "Table name bigquery-public-data.census_bureau_acs.county_2020_1yr was not found :( \n"
          ]
        }
      ]
    },
    {
      "cell_type": "markdown",
      "source": [
        "Okay, now I want to see WHICH columns everything does not have, so I can see what we would be missing out on if we just ignore columns that are not common across all data sets."
      ],
      "metadata": {
        "id": "0i_7VD5GVhbW"
      }
    },
    {
      "cell_type": "code",
      "source": [
        "\n",
        "import pandas as pd\n",
        "\n",
        "year_start = 2007\n",
        "year_stop = 2025\n",
        "\n",
        "# Initialize a dictionary to store the schema for each table\n",
        "table_schemas = {}\n",
        "\n",
        "# Initialize a set to store common columns\n",
        "common_columns_set = None\n",
        "\n",
        "# Initialize a dictionary to store unique columns for each table\n",
        "unique_columns_dict = {}\n",
        "\n",
        "# Initialize a list to store DataFrames for each year\n",
        "dfs = []\n",
        "\n",
        "for i in range(year_start, year_stop):\n",
        "    table_name = f\"bigquery-public-data.census_bureau_acs.county_{i}_1yr\"\n",
        "\n",
        "    try:\n",
        "        # Fetch the schema (column information) for each table\n",
        "        if table_name not in table_schemas:\n",
        "            table = accident_client.get_table(table_name)\n",
        "            table_schemas[table_name] = set([field.name for field in table.schema])\n",
        "\n",
        "        # If this is the first DataFrame, initialize the set with its columns\n",
        "        if common_columns_set is None:\n",
        "            common_columns_set = set(table_schemas[table_name])\n",
        "        else:\n",
        "            # Update the set to include only columns present in both DataFrames\n",
        "            common_columns_set.intersection_update(table_schemas[table_name])\n",
        "\n",
        "        # Update the set to include only columns not present in other DataFrames\n",
        "        unique_columns_dict[table_name] = table_schemas[table_name].difference(common_columns_set)\n",
        "\n",
        "        print(f\"Table name {table_name} has {len(table_schemas[table_name])} cols\")\n",
        "\n",
        "        # Fetch the data and add it to a DataFrame\n",
        "        query = f\"SELECT * FROM {table_name}\"\n",
        "        df = accident_client.query(query).to_dataframe()\n",
        "\n",
        "        # Add the 'year' column to the DataFrame\n",
        "        df['year'] = i\n",
        "\n",
        "        # Keep only the common columns\n",
        "        df = df[list(common_columns_set) + ['year']]\n",
        "\n",
        "        # Append the DataFrame to the list\n",
        "        dfs.append(df)\n",
        "\n",
        "    except:\n",
        "        print(f\"Table {table_name} not found\")\n",
        "\n",
        "# Print unique columns for each table\n",
        "for i in range(year_start, year_stop):\n",
        "    table_name = f\"bigquery-public-data.census_bureau_acs.county_{i}_1yr\"\n",
        "    try:\n",
        "        print(f\"Unique columns in {table_name}: {unique_columns_dict[table_name]}\")\n",
        "    except:\n",
        "        print(f\"Table {table_name} not found\")\n",
        "\n",
        "# Concatenate all DataFrames into a master DataFrame\n",
        "master_df = pd.concat(dfs, ignore_index=True)\n",
        "\n",
        "# Print the master DataFrame\n",
        "print(\"\\nMaster DataFrame:\")\n",
        "print(master_df)"
      ],
      "metadata": {
        "colab": {
          "base_uri": "https://localhost:8080/"
        },
        "id": "2I2CIx83VofW",
        "outputId": "70f9f6ac-5efa-47f7-e468-35d8c219d191"
      },
      "execution_count": null,
      "outputs": [
        {
          "output_type": "stream",
          "name": "stdout",
          "text": [
            "Table name bigquery-public-data.census_bureau_acs.county_2007_1yr has 252 cols\n",
            "Table name bigquery-public-data.census_bureau_acs.county_2008_1yr has 252 cols\n",
            "Table name bigquery-public-data.census_bureau_acs.county_2009_1yr has 252 cols\n",
            "Table name bigquery-public-data.census_bureau_acs.county_2010_1yr has 247 cols\n",
            "Table name bigquery-public-data.census_bureau_acs.county_2011_1yr has 252 cols\n",
            "Table name bigquery-public-data.census_bureau_acs.county_2012_1yr has 252 cols\n",
            "Table name bigquery-public-data.census_bureau_acs.county_2013_1yr has 252 cols\n",
            "Table name bigquery-public-data.census_bureau_acs.county_2014_1yr has 252 cols\n",
            "Table name bigquery-public-data.census_bureau_acs.county_2015_1yr has 246 cols\n",
            "Table name bigquery-public-data.census_bureau_acs.county_2016_1yr has 252 cols\n",
            "Table name bigquery-public-data.census_bureau_acs.county_2017_1yr has 252 cols\n",
            "Table name bigquery-public-data.census_bureau_acs.county_2018_1yr has 252 cols\n",
            "Table name bigquery-public-data.census_bureau_acs.county_2019_1yr has 245 cols\n",
            "Table bigquery-public-data.census_bureau_acs.county_2020_1yr not found\n",
            "Table name bigquery-public-data.census_bureau_acs.county_2021_1yr has 245 cols\n",
            "Table bigquery-public-data.census_bureau_acs.county_2022_1yr not found\n",
            "Table bigquery-public-data.census_bureau_acs.county_2023_1yr not found\n",
            "Table bigquery-public-data.census_bureau_acs.county_2024_1yr not found\n",
            "Unique columns in bigquery-public-data.census_bureau_acs.county_2007_1yr: set()\n",
            "Unique columns in bigquery-public-data.census_bureau_acs.county_2008_1yr: set()\n",
            "Unique columns in bigquery-public-data.census_bureau_acs.county_2009_1yr: set()\n",
            "Unique columns in bigquery-public-data.census_bureau_acs.county_2010_1yr: {'geoidsl', 'geoidsc'}\n",
            "Unique columns in bigquery-public-data.census_bureau_acs.county_2011_1yr: {'civilian_labor_force', 'employed_pop', 'pop_in_labor_force', 'unemployed_pop', 'not_in_labor_force', 'armed_forces', 'pop_16_over'}\n",
            "Unique columns in bigquery-public-data.census_bureau_acs.county_2012_1yr: {'civilian_labor_force', 'employed_pop', 'pop_in_labor_force', 'unemployed_pop', 'not_in_labor_force', 'armed_forces', 'pop_16_over'}\n",
            "Unique columns in bigquery-public-data.census_bureau_acs.county_2013_1yr: {'civilian_labor_force', 'employed_pop', 'pop_in_labor_force', 'unemployed_pop', 'not_in_labor_force', 'armed_forces', 'pop_16_over'}\n",
            "Unique columns in bigquery-public-data.census_bureau_acs.county_2014_1yr: {'civilian_labor_force', 'employed_pop', 'pop_in_labor_force', 'unemployed_pop', 'not_in_labor_force', 'armed_forces', 'pop_16_over'}\n",
            "Unique columns in bigquery-public-data.census_bureau_acs.county_2015_1yr: {'civilian_labor_force', 'employed_pop', 'pop_in_labor_force', 'unemployed_pop', 'not_in_labor_force', 'armed_forces', 'pop_16_over'}\n",
            "Unique columns in bigquery-public-data.census_bureau_acs.county_2016_1yr: {'civilian_labor_force', 'employed_pop', 'pop_in_labor_force', 'pop_widowed', 'pop_16_over', 'pop_divorced', 'pop_never_married', 'unemployed_pop', 'not_in_labor_force', 'armed_forces', 'pop_15_and_over', 'pop_now_married', 'pop_separated'}\n",
            "Unique columns in bigquery-public-data.census_bureau_acs.county_2017_1yr: {'civilian_labor_force', 'employed_pop', 'pop_in_labor_force', 'pop_widowed', 'pop_16_over', 'pop_divorced', 'pop_never_married', 'unemployed_pop', 'not_in_labor_force', 'armed_forces', 'pop_15_and_over', 'pop_now_married', 'pop_separated'}\n",
            "Unique columns in bigquery-public-data.census_bureau_acs.county_2018_1yr: {'civilian_labor_force', 'employed_pop', 'pop_in_labor_force', 'pop_widowed', 'pop_16_over', 'pop_divorced', 'pop_never_married', 'unemployed_pop', 'not_in_labor_force', 'armed_forces', 'pop_15_and_over', 'pop_now_married', 'pop_separated'}\n",
            "Unique columns in bigquery-public-data.census_bureau_acs.county_2019_1yr: {'civilian_labor_force', 'employed_pop', 'pop_in_labor_force', 'male_60_to_61', 'unemployed_pop', 'male_62_to_64', 'not_in_labor_force', 'armed_forces', 'pop_16_over'}\n",
            "Table bigquery-public-data.census_bureau_acs.county_2020_1yr not found\n",
            "Unique columns in bigquery-public-data.census_bureau_acs.county_2021_1yr: {'civilian_labor_force', 'employed_pop', 'pop_in_labor_force', 'male_60_to_61', 'unemployed_pop', 'male_62_to_64', 'not_in_labor_force', 'armed_forces', 'pop_16_over'}\n",
            "Table bigquery-public-data.census_bureau_acs.county_2022_1yr not found\n",
            "Table bigquery-public-data.census_bureau_acs.county_2023_1yr not found\n",
            "Table bigquery-public-data.census_bureau_acs.county_2024_1yr not found\n",
            "\n",
            "Master DataFrame:\n",
            "      income_per_capita  two_cars pop_5_years_over occupation_services  \\\n",
            "0               24635.0   94225.0              NaN             48502.0   \n",
            "1               22853.0   68027.0              NaN             37994.0   \n",
            "2               37651.0  125047.0              NaN             74770.0   \n",
            "3               21887.0   50863.0              NaN             60063.0   \n",
            "4               27268.0  106823.0              NaN             62354.0   \n",
            "...                 ...       ...              ...                 ...   \n",
            "11503           41636.0   55639.0              NaN             39743.0   \n",
            "11504           30473.0   60722.0              NaN             35711.0   \n",
            "11505           20943.0   51464.0              NaN             38167.0   \n",
            "11506           37681.0   89537.0              NaN             42335.0   \n",
            "11507           35375.0  113759.0              NaN             55175.0   \n",
            "\n",
            "      owner_occupied_housing_units female_75_to_79   no_car  pop_divorced  \\\n",
            "0                         162734.0          7125.0   6003.0       48781.0   \n",
            "1                         130322.0          7678.0   5750.0       40576.0   \n",
            "2                         213786.0          7548.0  31819.0       83851.0   \n",
            "3                         119820.0          8177.0  44853.0       50839.0   \n",
            "4                         189723.0         10108.0   6811.0       75202.0   \n",
            "...                            ...             ...      ...           ...   \n",
            "11503                      78081.0          6848.0   6625.0           NaN   \n",
            "11504                     126183.0          9541.0   3340.0           NaN   \n",
            "11505                      87833.0          7248.0   3185.0           NaN   \n",
            "11506                     153902.0          9923.0   7351.0           NaN   \n",
            "11507                     180737.0         10967.0   8232.0           NaN   \n",
            "\n",
            "      commute_90_more_mins  \\\n",
            "0                   3341.0   \n",
            "1                   7003.0   \n",
            "2                  11198.0   \n",
            "3                  10423.0   \n",
            "4                  14150.0   \n",
            "...                    ...   \n",
            "11503               2212.0   \n",
            "11504               5159.0   \n",
            "11505               2219.0   \n",
            "11506               4553.0   \n",
            "11507               3079.0   \n",
            "\n",
            "      employed_agriculture_forestry_fishing_hunting_mining  ...  \\\n",
            "0                                                 2615.0    ...   \n",
            "1                                                  538.0    ...   \n",
            "2                                                 1216.0    ...   \n",
            "3                                                  205.0    ...   \n",
            "4                                                 2256.0    ...   \n",
            "...                                                  ...    ...   \n",
            "11503                                            15852.0    ...   \n",
            "11504                                             4773.0    ...   \n",
            "11505                                             2259.0    ...   \n",
            "11506                                              690.0    ...   \n",
            "11507                                             1300.0    ...   \n",
            "\n",
            "      rent_burden_not_computed high_school_diploma  children male_22_to_24  \\\n",
            "0                       3752.0                 NaN  164289.0       13288.0   \n",
            "1                       3621.0                 NaN  128055.0        9258.0   \n",
            "2                       6065.0                 NaN  248718.0       20741.0   \n",
            "3                       5369.0                 NaN  155234.0       12852.0   \n",
            "4                       3648.0                 NaN  196193.0       15782.0   \n",
            "...                        ...                 ...       ...           ...   \n",
            "11503                   3393.0             42133.0   98820.0       12910.0   \n",
            "11504                   4491.0             73471.0   99605.0        7943.0   \n",
            "11505                   6051.0             55252.0  123110.0       10088.0   \n",
            "11506                   7256.0             99353.0  112088.0        8966.0   \n",
            "11507                   6876.0            121405.0  166903.0       12548.0   \n",
            "\n",
            "      unemployed_pop  male_55_to_59 employed_science_management_admin_waste  \\\n",
            "0                NaN        16004.0                                 25204.0   \n",
            "1                NaN        15043.0                                 15884.0   \n",
            "2                NaN        31172.0                                 89475.0   \n",
            "3                NaN        16741.0                                 27955.0   \n",
            "4                NaN        21839.0                                 33568.0   \n",
            "...              ...            ...                                     ...   \n",
            "11503            NaN        12166.0                                 23924.0   \n",
            "11504            NaN        12535.0                                 19583.0   \n",
            "11505            NaN        10206.0                                 15182.0   \n",
            "11506            NaN        16729.0                                 26204.0   \n",
            "11507            NaN        19247.0                                 45613.0   \n",
            "\n",
            "      male_15_to_17 mobile_homes  year  \n",
            "0           14504.0       8763.0  2007  \n",
            "1           11542.0       3171.0  2007  \n",
            "2           20592.0       1141.0  2007  \n",
            "3           13779.0          0.0  2007  \n",
            "4           18013.0      20893.0  2007  \n",
            "...             ...          ...   ...  \n",
            "11503        8689.0       6676.0  2021  \n",
            "11504        8385.0      28486.0  2021  \n",
            "11505       11593.0      15386.0  2021  \n",
            "11506        9977.0       2686.0  2021  \n",
            "11507       14600.0       2751.0  2021  \n",
            "\n",
            "[11508 rows x 253 columns]\n"
          ]
        }
      ]
    },
    {
      "cell_type": "markdown",
      "source": [
        "Okay, so we can see there are indeed some columns that are NOT in all of the data sets. We now have a master dataframe of ALL the census data, with only the columns from every set. (There is a gap from the year 2020, where no census data was generated due to the COVID-19 pandemic)"
      ],
      "metadata": {
        "id": "DBu3XBged4Kj"
      }
    },
    {
      "cell_type": "markdown",
      "source": [
        "Since 253! has 500 digits, we are not going to be making scatter plots of every column vs every other column. Instead, we are going to upload this dataframe to Google Big Query in our 'Data Warehouse', and then select a number of columns to compare for analysis."
      ],
      "metadata": {
        "id": "yDSRxhR1g6Xy"
      }
    },
    {
      "cell_type": "code",
      "source": [
        "pip install pandas_gbq"
      ],
      "metadata": {
        "id": "jtM5JBqXkMDS"
      },
      "execution_count": null,
      "outputs": []
    },
    {
      "cell_type": "code",
      "source": [
        "from pandas_gbq import to_gbq\n",
        "from pandas_gbq.schema import generate_bq_schema\n",
        "from io import StringIO\n",
        "\n",
        "client = bigquery.Client()\n",
        "\n",
        "project_id='weatherlink-404323'\n",
        "dataset_id = 'weatherlink_master'\n",
        "table_id = 'census_master'\n",
        "\n",
        "# This is a weird work around to get the dataframe acceptable for upload\n",
        "# temporarily store the dataframe as a csv in a string variable\n",
        "temp_csv_string = master_df.to_csv(sep=\";\", index=False)\n",
        "temp_csv_string_IO = StringIO(temp_csv_string)\n",
        "# create new dataframe from string variable\n",
        "new_df = pd.read_csv(temp_csv_string_IO, sep=\";\")\n",
        "\n",
        "to_gbq(new_df, f\"{dataset_id}.{table_id}\", project_id=project_id, if_exists='replace')\n"
      ],
      "metadata": {
        "colab": {
          "base_uri": "https://localhost:8080/"
        },
        "id": "H3r_phP4d9NE",
        "outputId": "2099d9e3-6e02-4f82-b2fe-f934efd4aeff"
      },
      "execution_count": null,
      "outputs": [
        {
          "output_type": "stream",
          "name": "stderr",
          "text": [
            "100%|██████████| 1/1 [00:00<00:00, 1348.22it/s]\n"
          ]
        }
      ]
    },
    {
      "cell_type": "markdown",
      "source": [
        "Lets test by querying our new master table"
      ],
      "metadata": {
        "id": "NNQrUO2jqDzq"
      }
    },
    {
      "cell_type": "code",
      "source": [
        "sql = f\" SELECT COUNT(*) FROM {project_id}.{dataset_id}.{table_id}\"\n",
        "\n",
        "result = client.query(sql)\n",
        "\n",
        "print(result)"
      ],
      "metadata": {
        "colab": {
          "base_uri": "https://localhost:8080/"
        },
        "id": "z3QsV5bDqF6y",
        "outputId": "74d40566-f9c4-4564-ccec-0c7ce87e4046"
      },
      "execution_count": null,
      "outputs": [
        {
          "output_type": "stream",
          "name": "stdout",
          "text": [
            "QueryJob<project=weatherlink-404323, location=US, id=a28bd2f3-62ce-40c4-9140-54a308978395>\n"
          ]
        }
      ]
    }
  ]
}